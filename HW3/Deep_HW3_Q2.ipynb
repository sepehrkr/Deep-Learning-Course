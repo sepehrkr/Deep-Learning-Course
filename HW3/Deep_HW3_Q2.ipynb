{
  "nbformat": 4,
  "nbformat_minor": 0,
  "metadata": {
    "colab": {
      "provenance": [],
      "gpuType": "T4",
      "mount_file_id": "1qOhIPDURsBqaUfNt0RFkKQ5Mig47MxK-",
      "authorship_tag": "ABX9TyM7E/cp0IQs9ZgLa7YZuOR+",
      "include_colab_link": true
    },
    "kernelspec": {
      "name": "python3",
      "display_name": "Python 3"
    },
    "language_info": {
      "name": "python"
    },
    "accelerator": "GPU"
  },
  "cells": [
    {
      "cell_type": "markdown",
      "metadata": {
        "id": "view-in-github",
        "colab_type": "text"
      },
      "source": [
        "<a href=\"https://colab.research.google.com/github/sepehrkr/Deep-Learning-Course/blob/main/HW3/Deep_HW3_Q2.ipynb\" target=\"_parent\"><img src=\"https://colab.research.google.com/assets/colab-badge.svg\" alt=\"Open In Colab\"/></a>"
      ]
    },
    {
      "cell_type": "markdown",
      "source": [
        "#Part A"
      ],
      "metadata": {
        "id": "XhQYBacOyxkD"
      }
    },
    {
      "cell_type": "markdown",
      "source": [
        "##1."
      ],
      "metadata": {
        "id": "2ZDKGzIc3YDS"
      }
    },
    {
      "cell_type": "markdown",
      "source": [
        "##### In deformable Convolution we can use an offset for each pixel instead of using grid. so we can attention to pixels in an arbitary manner. but in vanilla convoutions we should use regular grid to attend pixels. for example if we have a kernel 3x3, in regular convolution we use 3x3 grid to update each pixel value. In deformable convolution we use 9 pixel to update each pixel as we did in vanilla convoultion but here we are not forced to use the regular 3x3 grid. The pixels could come from any location in the image. Even they could not fit in to the grid, so in this cases we should interpolate that fractional pixels."
      ],
      "metadata": {
        "id": "f46jCCugtLSz"
      }
    },
    {
      "cell_type": "markdown",
      "source": [
        "## 2.\n",
        "\n"
      ],
      "metadata": {
        "id": "qgEWF0iVybfE"
      }
    },
    {
      "cell_type": "markdown",
      "source": [
        "They can be fleable to geometric transformations becasue the our kernels have not any special shape, so we deformed object we can adjust our kernel to fit hose object as we do for regualr objects in vanilla convolution. actually becasue the selction of pixels in linear process, so any Linear geometric trasnformation can be handled by deformable convolution."
      ],
      "metadata": {
        "id": "SIW6I8imy-gq"
      }
    },
    {
      "cell_type": "markdown",
      "source": [
        "## 3."
      ],
      "metadata": {
        "id": "8gc91MbrzqMc"
      }
    },
    {
      "cell_type": "markdown",
      "source": [
        "Becasue they vanilla convolution acts on regular grid, so if an object has been deformed such as rotated so much or any other trasnformation, the convolution can not act on ther as it does on regular objects. for example if in some layer the convoltion is triying to detect edges, if some edges have been deformaed the convolution just approximate this edges with regual shape of them not the exact shape. for solving this sproblem we hould agument our dataset before training out model to force network to pick specefic senario in each trasnfomration. but the power of the netork is just limited to the variations in dataset."
      ],
      "metadata": {
        "id": "XFzJP5Uczrm0"
      }
    },
    {
      "cell_type": "markdown",
      "source": [
        "## 4."
      ],
      "metadata": {
        "id": "SWMugCwo0xRs"
      }
    },
    {
      "cell_type": "markdown",
      "source": [
        "for genrating offsets, we pass the feature map through convolutiuon network. the output is a feature map with depth $2N$, where $N$ is the number of pixels in our kernel. for example if the kernel size is $3\\times 3$, then $N=9$. but for each pixel we have $2N$ features becasue out grid is 2D. so the offsets need $x$ and $y$ direction for exach pixel."
      ],
      "metadata": {
        "id": "RL_2ygQy0zwq"
      }
    },
    {
      "cell_type": "markdown",
      "source": [
        "#Part B"
      ],
      "metadata": {
        "id": "M3SBSShk1qA8"
      }
    },
    {
      "cell_type": "markdown",
      "source": [
        "### Preparing Data with COCO API"
      ],
      "metadata": {
        "id": "r_6jFeOpPW7P"
      }
    },
    {
      "cell_type": "code",
      "source": [
        "!pip install pycocotools"
      ],
      "metadata": {
        "colab": {
          "base_uri": "https://localhost:8080/"
        },
        "id": "oj0MfZ9u3pVX",
        "outputId": "bf98a131-66b8-4ab0-a344-ed68a3c2e253"
      },
      "execution_count": null,
      "outputs": [
        {
          "output_type": "stream",
          "name": "stdout",
          "text": [
            "Requirement already satisfied: pycocotools in /usr/local/lib/python3.10/dist-packages (2.0.7)\n",
            "Requirement already satisfied: matplotlib>=2.1.0 in /usr/local/lib/python3.10/dist-packages (from pycocotools) (3.7.1)\n",
            "Requirement already satisfied: numpy in /usr/local/lib/python3.10/dist-packages (from pycocotools) (1.23.5)\n",
            "Requirement already satisfied: contourpy>=1.0.1 in /usr/local/lib/python3.10/dist-packages (from matplotlib>=2.1.0->pycocotools) (1.2.0)\n",
            "Requirement already satisfied: cycler>=0.10 in /usr/local/lib/python3.10/dist-packages (from matplotlib>=2.1.0->pycocotools) (0.12.1)\n",
            "Requirement already satisfied: fonttools>=4.22.0 in /usr/local/lib/python3.10/dist-packages (from matplotlib>=2.1.0->pycocotools) (4.46.0)\n",
            "Requirement already satisfied: kiwisolver>=1.0.1 in /usr/local/lib/python3.10/dist-packages (from matplotlib>=2.1.0->pycocotools) (1.4.5)\n",
            "Requirement already satisfied: packaging>=20.0 in /usr/local/lib/python3.10/dist-packages (from matplotlib>=2.1.0->pycocotools) (23.2)\n",
            "Requirement already satisfied: pillow>=6.2.0 in /usr/local/lib/python3.10/dist-packages (from matplotlib>=2.1.0->pycocotools) (9.4.0)\n",
            "Requirement already satisfied: pyparsing>=2.3.1 in /usr/local/lib/python3.10/dist-packages (from matplotlib>=2.1.0->pycocotools) (3.1.1)\n",
            "Requirement already satisfied: python-dateutil>=2.7 in /usr/local/lib/python3.10/dist-packages (from matplotlib>=2.1.0->pycocotools) (2.8.2)\n",
            "Requirement already satisfied: six>=1.5 in /usr/local/lib/python3.10/dist-packages (from python-dateutil>=2.7->matplotlib>=2.1.0->pycocotools) (1.16.0)\n"
          ]
        }
      ]
    },
    {
      "cell_type": "code",
      "source": [
        "!wget http://images.cocodataset.org/annotations/annotations_trainval2017.zip\n",
        "!unzip /content/annotations_trainval2017.zip"
      ],
      "metadata": {
        "colab": {
          "base_uri": "https://localhost:8080/"
        },
        "id": "gNy7QpSq35__",
        "outputId": "42a0a952-0714-40d0-ba54-acd9fa64af1a"
      },
      "execution_count": null,
      "outputs": [
        {
          "output_type": "stream",
          "name": "stdout",
          "text": [
            "--2023-12-22 16:53:22--  http://images.cocodataset.org/annotations/annotations_trainval2017.zip\n",
            "Resolving images.cocodataset.org (images.cocodataset.org)... 52.216.93.179, 3.5.25.163, 52.217.91.164, ...\n",
            "Connecting to images.cocodataset.org (images.cocodataset.org)|52.216.93.179|:80... connected.\n",
            "HTTP request sent, awaiting response... 200 OK\n",
            "Length: 252907541 (241M) [application/zip]\n",
            "Saving to: ‘annotations_trainval2017.zip’\n",
            "\n",
            "annotations_trainva 100%[===================>] 241.19M  44.7MB/s    in 5.8s    \n",
            "\n",
            "2023-12-22 16:53:28 (41.8 MB/s) - ‘annotations_trainval2017.zip’ saved [252907541/252907541]\n",
            "\n",
            "Archive:  /content/annotations_trainval2017.zip\n",
            "  inflating: annotations/instances_train2017.json  \n",
            "  inflating: annotations/instances_val2017.json  \n",
            "  inflating: annotations/captions_train2017.json  \n",
            "  inflating: annotations/captions_val2017.json  \n",
            "  inflating: annotations/person_keypoints_train2017.json  \n",
            "  inflating: annotations/person_keypoints_val2017.json  \n"
          ]
        }
      ]
    },
    {
      "cell_type": "code",
      "source": [
        "import torch\n",
        "from torchvision import transforms\n",
        "from PIL import Image\n",
        "from torch.utils.data import Dataset, DataLoader\n",
        "from torchvision import transforms\n",
        "import torch.nn as nn\n",
        "import os\n",
        "import random\n",
        "from pycocotools.coco import COCO\n",
        "import requests\n",
        "import pickle\n",
        "from tqdm import tqdm\n",
        "from torchvision import datasets\n",
        "import matplotlib.pyplot as plt"
      ],
      "metadata": {
        "id": "So43KV8345UM"
      },
      "execution_count": null,
      "outputs": []
    },
    {
      "cell_type": "code",
      "source": [
        "annotation_train_dir = './annotations/instances_train2017.json'\n",
        "annotation_val_dir = './annotations/instances_val2017.json'\n",
        "\n",
        "coco_train = COCO(annotation_train_dir)\n",
        "coco_val = COCO(annotation_val_dir)\n",
        "\n",
        "cats = coco_train.loadCats(coco_train.getCatIds())"
      ],
      "metadata": {
        "colab": {
          "base_uri": "https://localhost:8080/"
        },
        "id": "QJ3UpbXGBmeF",
        "outputId": "6ffc3255-96c8-430f-ed38-8d9f6b397226"
      },
      "execution_count": null,
      "outputs": [
        {
          "output_type": "stream",
          "name": "stdout",
          "text": [
            "loading annotations into memory...\n",
            "Done (t=23.79s)\n",
            "creating index...\n",
            "index created!\n",
            "loading annotations into memory...\n",
            "Done (t=1.13s)\n",
            "creating index...\n",
            "index created!\n"
          ]
        }
      ]
    },
    {
      "cell_type": "code",
      "source": [
        "os.makedirs('./Images/Train')\n",
        "os.makedirs('./Images/Val')"
      ],
      "metadata": {
        "id": "dXBImf_9LHWf"
      },
      "execution_count": null,
      "outputs": []
    },
    {
      "cell_type": "code",
      "source": [
        "train_dir = './Images/Train'\n",
        "val_dir = './Images/Val'\n",
        "\n",
        "selected_cats = []\n",
        "train_images = []\n",
        "val_images = []\n",
        "counter = 0\n",
        "\n",
        "for i,cat_info in enumerate(cats):\n",
        "  cat_name = cat_info['name']\n",
        "  cat_id = cat_info['id']\n",
        "\n",
        "  train_images_id = coco_train.getImgIds(catIds=cat_id)\n",
        "  val_images_id = coco_val.getImgIds(catIds=cat_id)\n",
        "\n",
        "  if len(val_images_id)<125 or len(train_images_id)<500:\n",
        "    continue\n",
        "\n",
        "  selected_cats.append(cat_name)\n",
        "  train_images.append((random.sample(train_images_id, k=500), cat_name))\n",
        "  val_images.append((random.sample(val_images_id, k=125), cat_name))\n",
        "  counter += 1\n",
        "  if counter == 10:\n",
        "    break\n",
        "\n",
        "cat_dict = {}\n",
        "for i, name in enumerate(selected_cats):\n",
        "  cat_dict[name] = i\n",
        "\n",
        "train_image_cats = []\n",
        "val_image_cats = []\n",
        "for train, val in zip(train_images, val_images):\n",
        "\n",
        "  train_images_id, cat = train\n",
        "  val_images_id, _ = val\n",
        "\n",
        "  for train_image_id in train_images_id:\n",
        "    timage_info = coco_train.loadImgs(ids=train_image_id)[0]\n",
        "    timage_name = timage_info['file_name']\n",
        "    timage_url = timage_info['coco_url']\n",
        "    tresponse = requests.get(timage_url)\n",
        "    if tresponse.status_code == 200:\n",
        "      with open(os.path.join(train_dir, timage_name), 'wb') as f:\n",
        "        f.write(tresponse.content)\n",
        "        train_image_cats.append((timage_name,cat))\n",
        "    else:\n",
        "      print(f\"Failed to download: {timage_name}\")\n",
        "\n",
        "  for val_image_id in val_images_id:\n",
        "    vimage_info = coco_val.loadImgs(ids=val_image_id)[0]\n",
        "    vimage_name = vimage_info['file_name']\n",
        "    vimage_url = vimage_info['coco_url']\n",
        "    vresponse = requests.get(vimage_url)\n",
        "    if vresponse.status_code == 200:\n",
        "      with open(os.path.join(val_dir, vimage_name), 'wb') as f:\n",
        "        f.write(vresponse.content)\n",
        "        val_image_cats.append((vimage_name,cat))\n",
        "    else:\n",
        "      print(f\"Failed to download: {vimage_name}\")"
      ],
      "metadata": {
        "id": "7Pe28nMGEdct"
      },
      "execution_count": null,
      "outputs": []
    },
    {
      "cell_type": "markdown",
      "source": [
        "### Creating Dataset"
      ],
      "metadata": {
        "id": "9b_wAw4BPdkf"
      }
    },
    {
      "cell_type": "code",
      "source": [
        "class COCODataset(Dataset):\n",
        "  def __init__(self, root, which, dataset, cat_dict, transform):\n",
        "    super().__init__()\n",
        "    assert which in {'Train', 'Val'}\n",
        "    self.root = root\n",
        "    self.path = os.path.join(root,which)\n",
        "    self.dataset = dataset\n",
        "    self.cat_dict = cat_dict\n",
        "    self.transform = transform\n",
        "\n",
        "  def __getitem__(self, index):\n",
        "    image_name, cat = self.dataset[index]\n",
        "    image = self.transform(Image.open(os.path.join(self.path, image_name)).convert('RGB'))\n",
        "    cat = self.cat_dict[cat]\n",
        "    return (image, cat)\n",
        "\n",
        "  def __len__(self):\n",
        "    return len(self.dataset)"
      ],
      "metadata": {
        "id": "wWOoI8DPMlSO"
      },
      "execution_count": null,
      "outputs": []
    },
    {
      "cell_type": "code",
      "source": [
        "img_transform = transforms.Compose([\n",
        "    transforms.Resize((16,16),interpolation=transforms.InterpolationMode.BICUBIC),\n",
        "    transforms.ToTensor(),\n",
        "    transforms.Normalize(mean=[0.485, 0.456, 0.406], std=[0.229, 0.224, 0.225])\n",
        "])\n",
        "trainset = COCODataset('./Images','Train',train_image_cats,cat_dict,img_transform)\n",
        "valset = COCODataset('./Images','Val',val_image_cats,cat_dict,img_transform)\n",
        "\n",
        "trainLoader = DataLoader(trainset,batch_size=8,shuffle=True)\n",
        "valLoader = DataLoader(valset,batch_size=8,shuffle=False)"
      ],
      "metadata": {
        "id": "dF_DbBeHYPXM"
      },
      "execution_count": null,
      "outputs": []
    },
    {
      "cell_type": "code",
      "source": [
        "# save trainLoader and valLoader\n",
        "with open('/content/drive/MyDrive/trainLoader.pkl','wb') as f:\n",
        "  pickle.dump(trainLoader,f)\n",
        "\n",
        "with open('/content/drive/MyDrive/valLoader.pkl','wb') as f:\n",
        "  pickle.dump(valLoader,f)"
      ],
      "metadata": {
        "id": "s1W6kBa9cMNw"
      },
      "execution_count": null,
      "outputs": []
    },
    {
      "cell_type": "code",
      "source": [
        "# load trainLoader and valLoader\n",
        "with open('/content/drive/MyDrive/trainLoader.pkl','rb') as f:\n",
        "  trainLoader = pickle.load(f)\n",
        "\n",
        "with open('/content/drive/MyDrive/valLoader.pkl','rb') as f:\n",
        "  valLoader = pickle.load(f)"
      ],
      "metadata": {
        "id": "_40ircV5c8je"
      },
      "execution_count": null,
      "outputs": []
    },
    {
      "cell_type": "markdown",
      "source": [
        "### Model"
      ],
      "metadata": {
        "id": "rzIE92-TdZ_3"
      }
    },
    {
      "cell_type": "code",
      "source": [
        "class DeformableConv(nn.Module):\n",
        "    def __init__(self, in_channels, out_channels, kernel_size, stride, padding, device):\n",
        "        super().__init__()\n",
        "        self.kernel_size = kernel_size\n",
        "        self.N = kernel_size[0] * kernel_size[1]\n",
        "        self.conv2 = nn.Conv2d(in_channels, 2*self.N*in_channels, kernel_size,stride,padding)\n",
        "        self.W = nn.Parameter(torch.zeros((out_channels, in_channels, kernel_size[0], kernel_size[1])))\n",
        "        self.B = nn.Parameter(torch.zeros((out_channels,)))\n",
        "        self.intialize(in_channels)\n",
        "        self.device = device\n",
        "\n",
        "\n",
        "    def intialize(self, in_channels):\n",
        "        k = torch.sqrt(torch.tensor(1/(in_channels*self.kernel_size[0]*self.kernel_size[1])))\n",
        "        nn.init.uniform_(self.W,-k,k)\n",
        "        nn.init.uniform_(self.B,-k,k)\n",
        "\n",
        "\n",
        "    def grid_adjusting(self, points:torch.Tensor, x:torch.Tensor):\n",
        "        # points has shape B x c*2N x H x W\n",
        "        # x has shape B x C x H x W\n",
        "        points = points.reshape(points.shape[0],points.shape[1]//(2*self.N),self.N,2,points.shape[2],points.shape[3]).permute(0,1,4,5,2,3) # * x N x 2\n",
        "\n",
        "        pn_x, pn_y = torch.meshgrid(torch.arange(-(self.kernel_size[0]//2),self.kernel_size[0]//2+1),torch.arange(-(self.kernel_size[1]//2),self.kernel_size[1]//2+1))\n",
        "        pn_x = pn_x.flatten().to(self.device)\n",
        "        pn_y = pn_y.flatten().to(self.device)\n",
        "        p0_x, p0_y = torch.meshgrid(torch.arange(0,x.shape[-2]),torch.arange(0,x.shape[-1]))\n",
        "        p0_x = p0_x.to(device)\n",
        "        p0_y = p0_y.to(device)\n",
        "        px = p0_x[:,:,None]+pn_x+points[:,:,:,:,:,0]\n",
        "        py = p0_y[:,:,None]+pn_y+points[:,:,:,:,:,1]\n",
        "\n",
        "        G = torch.max(torch.tensor(0,device=self.device),1-torch.abs(p0_x[:,:]-px[:,:,:,:,:,None,None])) * torch.max(torch.tensor(0,device=self.device),1-torch.abs(p0_y[:,:]-py[:,:,:,:,:,None,None]))\n",
        "        mult = (G * x[:,:,None,None,None,:,:]).sum(dim=(-2,-1))\n",
        "        return (self.W.flatten(-2)[None,:,:,None,None,:] * mult[:,None,:,:,:,:]).sum(dim=(-1,-4))\n",
        "\n",
        "\n",
        "    def forward(self, x):\n",
        "        # x has shape B x C x H x W\n",
        "        offsets = self.conv2(x)\n",
        "        return self.grid_adjusting(offsets,x)\n"
      ],
      "metadata": {
        "id": "7gcwyn_7dXtU"
      },
      "execution_count": null,
      "outputs": []
    },
    {
      "cell_type": "code",
      "source": [
        "def conv_block(in_channels, out_channels, pool=False):\n",
        "    layers = [DeformableConv(in_channels, out_channels, (3,3), 1, 1,device),\n",
        "              nn.BatchNorm2d(out_channels),\n",
        "              nn.ReLU(inplace=True)]\n",
        "    if pool: layers.append(nn.MaxPool2d((2,2),2))\n",
        "    return nn.Sequential(*layers)\n",
        "\n",
        "class DeformableNet(nn.Module):\n",
        "    def __init__(self):\n",
        "        super().__init__()\n",
        "\n",
        "        self.conv1 = conv_block(3, 64) # 16\n",
        "        self.conv2 = conv_block(64, 128, pool=True) # 8\n",
        "        self.res1 = nn.Sequential(conv_block(128, 128), conv_block(128, 256)) #8\n",
        "        self.conv3 = nn.Conv2d(128,256,(1,1))\n",
        "        self.conv4 = conv_block(256, 512, pool=True) # 4\n",
        "\n",
        "        self.classifier = nn.Sequential(nn.MaxPool2d(4),\n",
        "                                        nn.Flatten(),\n",
        "                                        nn.Linear(512, 10))\n",
        "\n",
        "    def forward(self, xb):\n",
        "        out = self.conv1(xb)\n",
        "        out = self.conv2(out)\n",
        "        out = self.res1(out) + self.conv3(out)\n",
        "        out = self.conv4(out)\n",
        "        out = self.classifier(out)\n",
        "        return out"
      ],
      "metadata": {
        "id": "tEpKbeoYWbFW"
      },
      "execution_count": null,
      "outputs": []
    },
    {
      "cell_type": "code",
      "source": [
        "model = DeformableNet().to(device)\n",
        "criterion = nn.CrossEntropyLoss().to(device)\n",
        "optimizer = torch.optim.Adam(model.parameters(),lr=0.001)\n",
        "\n",
        "num_epochs = 10\n",
        "losses = []\n",
        "accuracies = []\n",
        "len_trainLoader = len(trainLoader)\n",
        "for epoch in range(num_epochs):\n",
        "  model.train()\n",
        "  current_loss = 0.0\n",
        "  accuracy = 0.0\n",
        "  tqdm_bar = tqdm(trainLoader, desc=f'Training Epoch {epoch} ', total=int(len_trainLoader))\n",
        "  for i,(images, targets) in enumerate(tqdm_bar):\n",
        "    images = images.to(device)\n",
        "    targets = targets.to(device)\n",
        "    labels = model(images)\n",
        "    optimizer.zero_grad()\n",
        "    loss = criterion(labels,targets)\n",
        "    loss.backward()\n",
        "    optimizer.step()\n",
        "    current_loss += loss.item()\n",
        "    _, prediction = torch.max(labels,dim=1)\n",
        "    accuracy += (prediction==targets).sum()/batch_size # to prevent overflow.\n",
        "\n",
        "  current_loss /= len_trainLoader\n",
        "  losses.append(current_loss)\n",
        "  accuracy = accuracy*batch_size/num_images\n",
        "  accuracies.append(accuracy)\n",
        "  print(f\"Loss: {current_loss}, Accuracy: {accuracy}\")\n",
        "  torch.save(model.state_dict(), '/content/drive/MyDrive/Defnet.pth')\n"
      ],
      "metadata": {
        "id": "zkGTMXZcWxZS"
      },
      "execution_count": null,
      "outputs": []
    },
    {
      "cell_type": "markdown",
      "source": [
        "### all below accuracies must multiplies 2 and losses must divied by 2, becasue i set batch size to 8 but i devided accuraccies to 16"
      ],
      "metadata": {
        "id": "Z8oEAKL08zyr"
      }
    },
    {
      "cell_type": "code",
      "source": [
        "plt.figure()\n",
        "plt.plot(range(num_epochs),losses)\n",
        "plt.title(\"Plot of Loss versus Epoch\")\n",
        "plt.ylabel(\"loss\")\n",
        "plt.xlabel(\"epoch\")\n",
        "plt.show()\n",
        "\n",
        "accuracies = [accuracy.cpu() for accuracy in accuracies]\n",
        "plt.figure()\n",
        "plt.plot(range(num_epochs),accuracies)\n",
        "plt.title(\"Plot of Accuracy versus Epoch\")\n",
        "plt.ylabel(\"accuracy\")\n",
        "plt.xlabel(\"epoch\")\n",
        "plt.show()\n"
      ],
      "metadata": {
        "colab": {
          "base_uri": "https://localhost:8080/",
          "height": 927
        },
        "id": "IQqSL_9TvbTU",
        "outputId": "ef381b47-28e5-4c75-e5f1-1404668634f6"
      },
      "execution_count": null,
      "outputs": [
        {
          "output_type": "display_data",
          "data": {
            "text/plain": [
              "<Figure size 640x480 with 1 Axes>"
            ],
            "image/png": "[encoded data removed]"
          },
          "metadata": {}
        },
        {
          "output_type": "display_data",
          "data": {
            "text/plain": [
              "<Figure size 640x480 with 1 Axes>"
            ],
            "image/png": "[encoded data removed]"
          },
          "metadata": {}
        }
      ]
    },
    {
      "cell_type": "code",
      "source": [
        "model.eval()\n",
        "accuracy = 0.0\n",
        "with torch.no_grad():\n",
        "  for i,(images, targets) in enumerate(valLoader):\n",
        "    images = images.to(device)\n",
        "    targets = targets.to(device)\n",
        "    labels = model(images)\n",
        "    _, prediction = torch.max(labels,dim=1)\n",
        "    accuracy += (prediction==targets).sum()\n",
        "\n",
        "accuracy /= (len(valLoader)*8)\n",
        "print(f\"Accuracy of test set: {accuracy}\")\n"
      ],
      "metadata": {
        "colab": {
          "base_uri": "https://localhost:8080/"
        },
        "id": "_2kCWOqdvldy",
        "outputId": "3ef2b571-2ee9-4fb2-b862-45f27292815d"
      },
      "execution_count": null,
      "outputs": [
        {
          "output_type": "stream",
          "name": "stdout",
          "text": [
            "Accuracy of test set: 0.8813291192054749\n"
          ]
        }
      ]
    },
    {
      "cell_type": "code",
      "source": [
        "def conv_block_vanilla(in_channels, out_channels, pool=False):\n",
        "    layers = [nn.Conv2d(in_channels, out_channels, (3,3), 1, 1),\n",
        "              nn.BatchNorm2d(out_channels),\n",
        "              nn.ReLU(inplace=True)]\n",
        "    if pool: layers.append(nn.MaxPool2d((2,2),2))\n",
        "    return nn.Sequential(*layers)\n",
        "\n",
        "class RegularNet(nn.Module):\n",
        "    def __init__(self):\n",
        "        super().__init__()\n",
        "\n",
        "        self.conv1 = conv_block_vanilla(3, 64) # 16\n",
        "        self.conv2 = conv_block_vanilla(64, 128, pool=True) # 8\n",
        "        self.res1 = nn.Sequential(conv_block_vanilla(128, 128), conv_block_vanilla(128, 256)) #8\n",
        "        self.conv3 = nn.Conv2d(128,256,(1,1))\n",
        "        self.conv4 = conv_block_vanilla(256, 512, pool=True) # 4\n",
        "\n",
        "        self.classifier = nn.Sequential(nn.MaxPool2d(4),\n",
        "                                        nn.Flatten(),\n",
        "                                        nn.Linear(512, 10))\n",
        "\n",
        "    def forward(self, xb):\n",
        "        out = self.conv1(xb)\n",
        "        out = self.conv2(out)\n",
        "        out = self.res1(out) + self.conv3(out)\n",
        "        out = self.conv4(out)\n",
        "        out = self.classifier(out)\n",
        "        return out"
      ],
      "metadata": {
        "id": "zYDv5aI-8A5W"
      },
      "execution_count": null,
      "outputs": []
    },
    {
      "cell_type": "code",
      "source": [
        "batch_size = 8\n",
        "device = torch.device('cuda' if torch.cuda.is_available() else 'cpu')\n",
        "num_images = len(trainset)\n",
        "\n",
        "model_regular = RegularNet().to(device)\n",
        "criterion = nn.CrossEntropyLoss().to(device)\n",
        "optimizer = torch.optim.Adam(model_regular.parameters(),lr=0.001)\n",
        "\n",
        "num_epochs = 10\n",
        "losses = []\n",
        "accuracies = []\n",
        "len_trainLoader = len(trainLoader)\n",
        "for epoch in range(num_epochs):\n",
        "  model_regular.train()\n",
        "  current_loss = 0.0\n",
        "  accuracy = 0.0\n",
        "  tqdm_bar = tqdm(trainLoader, desc=f'Training Epoch {epoch} ', total=int(len_trainLoader))\n",
        "  for i,(images, targets) in enumerate(tqdm_bar):\n",
        "    images = images.to(device)\n",
        "    targets = targets.to(device)\n",
        "    labels = model_regular(images)\n",
        "    optimizer.zero_grad()\n",
        "    loss = criterion(labels,targets)\n",
        "    loss.backward()\n",
        "    optimizer.step()\n",
        "    current_loss += loss.item()\n",
        "    _, prediction = torch.max(labels,dim=1)\n",
        "    accuracy += (prediction==targets).sum()/batch_size # to prevent overflow.\n",
        "\n",
        "  current_loss /= len_trainLoader\n",
        "  losses.append(current_loss)\n",
        "  accuracy = accuracy*batch_size/num_images\n",
        "  accuracies.append(accuracy)\n",
        "  print(f\"Loss: {current_loss}, Accuracy: {accuracy}\")\n",
        "  torch.save(model_regular.state_dict(), '/content/drive/MyDrive/RegualNet.pth')\n"
      ],
      "metadata": {
        "colab": {
          "base_uri": "https://localhost:8080/"
        },
        "id": "3rVAfi7V8b5d",
        "outputId": "4f815505-d3b1-49f9-cc78-4a55284625cc"
      },
      "execution_count": null,
      "outputs": [
        {
          "output_type": "stream",
          "name": "stderr",
          "text": [
            "Training Epoch 0 : 100%|██████████| 625/625 [00:08<00:00, 73.53it/s]\n"
          ]
        },
        {
          "output_type": "stream",
          "name": "stdout",
          "text": [
            "Loss: 1.9554063983917236, Accuracy: 0.31700000166893005\n"
          ]
        },
        {
          "output_type": "stream",
          "name": "stderr",
          "text": [
            "Training Epoch 1 : 100%|██████████| 625/625 [00:07<00:00, 79.90it/s]\n"
          ]
        },
        {
          "output_type": "stream",
          "name": "stdout",
          "text": [
            "Loss: 1.6756327179908752, Accuracy: 0.4107999801635742\n"
          ]
        },
        {
          "output_type": "stream",
          "name": "stderr",
          "text": [
            "Training Epoch 2 : 100%|██████████| 625/625 [00:07<00:00, 80.93it/s]\n"
          ]
        },
        {
          "output_type": "stream",
          "name": "stdout",
          "text": [
            "Loss: 1.4767771349906922, Accuracy: 0.4909999966621399\n"
          ]
        },
        {
          "output_type": "stream",
          "name": "stderr",
          "text": [
            "Training Epoch 3 : 100%|██████████| 625/625 [00:07<00:00, 87.51it/s] \n"
          ]
        },
        {
          "output_type": "stream",
          "name": "stdout",
          "text": [
            "Loss: 1.2824749399662019, Accuracy: 0.5503999590873718\n"
          ]
        },
        {
          "output_type": "stream",
          "name": "stderr",
          "text": [
            "Training Epoch 4 : 100%|██████████| 625/625 [00:11<00:00, 56.69it/s]\n"
          ]
        },
        {
          "output_type": "stream",
          "name": "stdout",
          "text": [
            "Loss: 1.1341118632793425, Accuracy: 0.5977999567985535\n"
          ]
        },
        {
          "output_type": "stream",
          "name": "stderr",
          "text": [
            "Training Epoch 5 : 100%|██████████| 625/625 [00:07<00:00, 83.11it/s] \n"
          ]
        },
        {
          "output_type": "stream",
          "name": "stdout",
          "text": [
            "Loss: 0.9125900604009628, Accuracy: 0.6829999685287476\n"
          ]
        },
        {
          "output_type": "stream",
          "name": "stderr",
          "text": [
            "Training Epoch 6 : 100%|██████████| 625/625 [00:10<00:00, 58.14it/s]\n"
          ]
        },
        {
          "output_type": "stream",
          "name": "stdout",
          "text": [
            "Loss: 0.7588072599411011, Accuracy: 0.7396000027656555\n"
          ]
        },
        {
          "output_type": "stream",
          "name": "stderr",
          "text": [
            "Training Epoch 7 : 100%|██████████| 625/625 [00:10<00:00, 61.72it/s]\n"
          ]
        },
        {
          "output_type": "stream",
          "name": "stdout",
          "text": [
            "Loss: 0.606475509351492, Accuracy: 0.7978000044822693\n"
          ]
        },
        {
          "output_type": "stream",
          "name": "stderr",
          "text": [
            "Training Epoch 8 : 100%|██████████| 625/625 [00:08<00:00, 70.81it/s]\n"
          ]
        },
        {
          "output_type": "stream",
          "name": "stdout",
          "text": [
            "Loss: 0.40015468997061254, Accuracy: 0.8661999702453613\n"
          ]
        },
        {
          "output_type": "stream",
          "name": "stderr",
          "text": [
            "Training Epoch 9 : 100%|██████████| 625/625 [00:09<00:00, 67.01it/s]"
          ]
        },
        {
          "output_type": "stream",
          "name": "stdout",
          "text": [
            "Loss: 0.2572735122770071, Accuracy: 0.9228000044822693\n"
          ]
        },
        {
          "output_type": "stream",
          "name": "stderr",
          "text": [
            "\n"
          ]
        }
      ]
    },
    {
      "cell_type": "code",
      "source": [
        "plt.figure()\n",
        "plt.plot(range(num_epochs),losses)\n",
        "plt.title(\"Plot of Loss versus Epoch\")\n",
        "plt.ylabel(\"loss\")\n",
        "plt.xlabel(\"epoch\")\n",
        "plt.show()\n",
        "\n",
        "accuracies = [accuracy.cpu() for accuracy in accuracies]\n",
        "plt.figure()\n",
        "plt.plot(range(num_epochs),accuracies)\n",
        "plt.title(\"Plot of Accuracy versus Epoch\")\n",
        "plt.ylabel(\"accuracy\")\n",
        "plt.xlabel(\"epoch\")\n",
        "plt.show()\n"
      ],
      "metadata": {
        "colab": {
          "base_uri": "https://localhost:8080/",
          "height": 927
        },
        "id": "7VzddCrpAlKl",
        "outputId": "1a01faa7-986c-4bd3-ea03-93359075dfca"
      },
      "execution_count": null,
      "outputs": [
        {
          "output_type": "display_data",
          "data": {
            "text/plain": [
              "<Figure size 640x480 with 1 Axes>"
            ],
            "image/png": "[encoded data removed]"
          },
          "metadata": {}
        },
        {
          "output_type": "display_data",
          "data": {
            "text/plain": [
              "<Figure size 640x480 with 1 Axes>"
            ],
            "image/png": "[encoded data removed]"
          },
          "metadata": {}
        }
      ]
    },
    {
      "cell_type": "code",
      "source": [
        "model_regular.eval()\n",
        "accuracy = 0.0\n",
        "with torch.no_grad():\n",
        "  for i,(images, targets) in enumerate(valLoader):\n",
        "    images = images.to(device)\n",
        "    targets = targets.to(device)\n",
        "    labels = model_regular(images)\n",
        "    _, prediction = torch.max(labels,dim=1)\n",
        "    accuracy += (prediction==targets).sum()\n",
        "\n",
        "accuracy /= (len(valLoader)*8)\n",
        "print(f\"Accuracy of test set: {accuracy}\")"
      ],
      "metadata": {
        "colab": {
          "base_uri": "https://localhost:8080/"
        },
        "id": "uQj8N5slAlPL",
        "outputId": "e19ee0b8-986d-46fc-8c38-3fe853f713ae"
      },
      "execution_count": null,
      "outputs": [
        {
          "output_type": "stream",
          "name": "stdout",
          "text": [
            "Accuracy of test set: 0.656050980091095\n"
          ]
        }
      ]
    },
    {
      "cell_type": "markdown",
      "source": [
        "# Part C"
      ],
      "metadata": {
        "id": "XNXP3jBoGSne"
      }
    },
    {
      "cell_type": "markdown",
      "source": [
        "Def Train Accuracy: 92%\n",
        "\n",
        "Def Val Accuracy: 88%\n",
        "\n",
        "Vanilla Train Accuracy: 92%\n",
        "\n",
        "Vanilla Val Accuracy: 66%\n",
        "\n",
        "Def Train Loss : 0.7\n",
        "\n",
        "Def Val Loss : 0.74\n",
        "\n",
        "Reg Train Loss : 0.25\n",
        "\n",
        "Reg Val Loss : 0.88\n",
        "\n",
        "Time for training Deformable : 44 min\n",
        "\n",
        "Time for training Vanilla : 2 min\n",
        "\n",
        "Time for validating Deformable: 11 sec\n",
        "\n",
        "Time for validating Vanilla: 2 sec"
      ],
      "metadata": {
        "id": "Ev6V_noKGUE8"
      }
    }
  ]
}
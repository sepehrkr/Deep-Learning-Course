{
  "nbformat": 4,
  "nbformat_minor": 0,
  "metadata": {
    "colab": {
      "provenance": [],
      "gpuType": "T4",
      "mount_file_id": "1bLTvwjKtxPedsBCtmNuLFfKrw-Q7aPZI",
      "authorship_tag": "ABX9TyPyfo+TKX385X5hPpYQNQdX",
      "include_colab_link": true
    },
    "kernelspec": {
      "name": "python3",
      "display_name": "Python 3"
    },
    "language_info": {
      "name": "python"
    },
    "accelerator": "GPU"
  },
  "cells": [
    {
      "cell_type": "markdown",
      "metadata": {
        "id": "view-in-github",
        "colab_type": "text"
      },
      "source": [
        "<a href=\"https://colab.research.google.com/github/sepehrkr/Deep-Learning-Course/blob/main/HW3/Deep_HW3_Q1.ipynb\" target=\"_parent\"><img src=\"https://colab.research.google.com/assets/colab-badge.svg\" alt=\"Open In Colab\"/></a>"
      ]
    },
    {
      "cell_type": "code",
      "execution_count": null,
      "metadata": {
        "id": "unPMammK_iWd"
      },
      "outputs": [],
      "source": [
        "import torch\n",
        "from torchvision import models\n",
        "import torch.nn as nn\n",
        "from torchvision.datasets import CIFAR10\n",
        "from torchvision import transforms\n",
        "from torch.utils.data import Subset, DataLoader, Dataset\n",
        "from tqdm import tqdm\n",
        "import matplotlib.pyplot as plt"
      ]
    },
    {
      "cell_type": "markdown",
      "source": [
        "## Part 1"
      ],
      "metadata": {
        "id": "Lpu5Q4ZDvdCl"
      }
    },
    {
      "cell_type": "code",
      "source": [
        "class Resnet(nn.Module):\n",
        "    def __init__(self, class_num):\n",
        "        super().__init__()\n",
        "        self.resnet = models.resnet50(models.ResNet50_Weights.IMAGENET1K_V2)\n",
        "        self.features = self.resnet.fc.in_features\n",
        "        for param in self.resnet.parameters():\n",
        "            param.requires_grad = False\n",
        "\n",
        "        self.resnet.fc = nn.Linear(self.features,class_num)\n",
        "\n",
        "    def forward(self,x:torch.Tensor):\n",
        "        return self.resnet(x)"
      ],
      "metadata": {
        "id": "bzkYOGee_qPG"
      },
      "execution_count": null,
      "outputs": []
    },
    {
      "cell_type": "code",
      "source": [
        "device = torch.device('cuda' if torch.cuda.is_available() else 'cpu')\n",
        "batch_size = 32\n",
        "\n",
        "my_transform = transforms.Compose([\n",
        "    transforms.Resize((224,224)),\n",
        "    transforms.ToTensor(),\n",
        "    transforms.Normalize([0.485, 0.456, 0.406],[0.229, 0.224, 0.225])\n",
        "])\n",
        "trainset = CIFAR10('.',train=True,download=True,transform=my_transform)\n",
        "testset = CIFAR10('.',train=False,download=True,transform=my_transform)\n",
        "\n",
        "classes = [trainset.class_to_idx['airplane'],trainset.class_to_idx['automobile']]\n",
        "train_idxs = [idx for idx, label in enumerate(trainset.targets) if label in classes]\n",
        "test_idxs = [idx for idx, label in enumerate(testset.targets) if label in classes]\n",
        "\n",
        "trainset = Subset(trainset,train_idxs)\n",
        "testset = Subset(testset,test_idxs)\n",
        "\n",
        "trainLoader = DataLoader(trainset,batch_size,shuffle=True)\n",
        "testLoader = DataLoader(testset,batch_size,shuffle=True)\n",
        "\n",
        "num_images = len(trainset)"
      ],
      "metadata": {
        "colab": {
          "base_uri": "https://localhost:8080/"
        },
        "id": "mo-9LKQo_tus",
        "outputId": "7e1a4c40-f453-408d-e4a8-7f17c3ca47b7"
      },
      "execution_count": null,
      "outputs": [
        {
          "output_type": "stream",
          "name": "stdout",
          "text": [
            "Files already downloaded and verified\n",
            "Files already downloaded and verified\n"
          ]
        }
      ]
    },
    {
      "cell_type": "code",
      "source": [
        "model = Resnet(len(classes)).to(device)\n",
        "criterion = nn.CrossEntropyLoss().to(device)\n",
        "optimizer = torch.optim.Adam(model.parameters(),lr=0.001)\n",
        "\n",
        "num_epochs = 10\n",
        "losses = []\n",
        "accuracies = []\n",
        "len_trainLoader = len(trainLoader)\n",
        "for epoch in range(num_epochs):\n",
        "  model.train()\n",
        "  current_loss = 0.0\n",
        "  accuracy = 0.0\n",
        "  tqdm_bar = tqdm(trainLoader, desc=f'Training Epoch {epoch} ', total=int(len_trainLoader))\n",
        "  for i,(images, targets) in enumerate(tqdm_bar):\n",
        "    images = images.to(device)\n",
        "    targets = targets.to(device)\n",
        "    labels = model(images)\n",
        "    optimizer.zero_grad()\n",
        "    loss = criterion(labels,targets)\n",
        "    loss.backward()\n",
        "    optimizer.step()\n",
        "    current_loss += loss.item()\n",
        "    _, prediction = torch.max(labels,dim=1)\n",
        "    accuracy += (prediction==targets).sum()/batch_size # to prevent overflow.\n",
        "\n",
        "  current_loss /= len_trainLoader\n",
        "  losses.append(current_loss)\n",
        "  accuracy = accuracy*batch_size/num_images\n",
        "  accuracies.append(accuracy)\n",
        "  print(f\"Loss: {current_loss}, Accuracy: {accuracy}\")\n",
        "  torch.save(model.state_dict(), '/content/drive/MyDrive/Resnet50.pth')\n"
      ],
      "metadata": {
        "colab": {
          "base_uri": "https://localhost:8080/"
        },
        "id": "89AE4_3g_yoW",
        "outputId": "e0b34995-2a2e-41dd-8488-4e593f7ca031"
      },
      "execution_count": null,
      "outputs": [
        {
          "output_type": "stream",
          "name": "stderr",
          "text": [
            "Training Epoch 0 : 100%|██████████| 313/313 [01:56<00:00,  2.69it/s]\n"
          ]
        },
        {
          "output_type": "stream",
          "name": "stdout",
          "text": [
            "Loss: 0.22208196404404915, Accuracy: 0.9235000014305115\n"
          ]
        },
        {
          "output_type": "stream",
          "name": "stderr",
          "text": [
            "Training Epoch 1 : 100%|██████████| 313/313 [01:58<00:00,  2.64it/s]\n"
          ]
        },
        {
          "output_type": "stream",
          "name": "stdout",
          "text": [
            "Loss: 0.13369896621130906, Accuracy: 0.9526000022888184\n"
          ]
        },
        {
          "output_type": "stream",
          "name": "stderr",
          "text": [
            "Training Epoch 2 : 100%|██████████| 313/313 [01:57<00:00,  2.67it/s]\n"
          ]
        },
        {
          "output_type": "stream",
          "name": "stdout",
          "text": [
            "Loss: 0.11672910043416312, Accuracy: 0.9584999680519104\n"
          ]
        },
        {
          "output_type": "stream",
          "name": "stderr",
          "text": [
            "Training Epoch 3 : 100%|██████████| 313/313 [02:01<00:00,  2.59it/s]\n"
          ]
        },
        {
          "output_type": "stream",
          "name": "stdout",
          "text": [
            "Loss: 0.10405146788520078, Accuracy: 0.9602999687194824\n"
          ]
        },
        {
          "output_type": "stream",
          "name": "stderr",
          "text": [
            "Training Epoch 4 : 100%|██████████| 313/313 [01:53<00:00,  2.77it/s]\n"
          ]
        },
        {
          "output_type": "stream",
          "name": "stdout",
          "text": [
            "Loss: 0.09207170931830669, Accuracy: 0.9662999510765076\n"
          ]
        },
        {
          "output_type": "stream",
          "name": "stderr",
          "text": [
            "Training Epoch 5 : 100%|██████████| 313/313 [01:57<00:00,  2.66it/s]\n"
          ]
        },
        {
          "output_type": "stream",
          "name": "stdout",
          "text": [
            "Loss: 0.09387696588846346, Accuracy: 0.9645999670028687\n"
          ]
        },
        {
          "output_type": "stream",
          "name": "stderr",
          "text": [
            "Training Epoch 6 : 100%|██████████| 313/313 [02:03<00:00,  2.53it/s]\n"
          ]
        },
        {
          "output_type": "stream",
          "name": "stdout",
          "text": [
            "Loss: 0.0878745154314005, Accuracy: 0.967199981212616\n"
          ]
        },
        {
          "output_type": "stream",
          "name": "stderr",
          "text": [
            "Training Epoch 7 : 100%|██████████| 313/313 [02:02<00:00,  2.55it/s]\n"
          ]
        },
        {
          "output_type": "stream",
          "name": "stdout",
          "text": [
            "Loss: 0.08141107601336778, Accuracy: 0.9695000052452087\n"
          ]
        },
        {
          "output_type": "stream",
          "name": "stderr",
          "text": [
            "Training Epoch 8 : 100%|██████████| 313/313 [02:00<00:00,  2.59it/s]\n"
          ]
        },
        {
          "output_type": "stream",
          "name": "stdout",
          "text": [
            "Loss: 0.08184035264919647, Accuracy: 0.9687999486923218\n"
          ]
        },
        {
          "output_type": "stream",
          "name": "stderr",
          "text": [
            "Training Epoch 9 : 100%|██████████| 313/313 [01:52<00:00,  2.79it/s]\n"
          ]
        },
        {
          "output_type": "stream",
          "name": "stdout",
          "text": [
            "Loss: 0.07921757794523868, Accuracy: 0.9696999788284302\n"
          ]
        }
      ]
    },
    {
      "cell_type": "code",
      "source": [
        "plt.figure()\n",
        "plt.plot(range(num_epochs),losses)\n",
        "plt.title(\"Plot of Loss versus Epoch\")\n",
        "plt.ylabel(\"loss\")\n",
        "plt.xlabel(\"epoch\")\n",
        "plt.show()\n",
        "\n",
        "accuracies = [accuracy.cpu() for accuracy in accuracies]\n",
        "plt.figure()\n",
        "plt.plot(range(num_epochs),accuracies)\n",
        "plt.title(\"Plot of Accuracy versus Epoch\")\n",
        "plt.ylabel(\"accuracy\")\n",
        "plt.xlabel(\"epoch\")\n",
        "plt.show()\n"
      ],
      "metadata": {
        "colab": {
          "base_uri": "https://localhost:8080/",
          "height": 927
        },
        "id": "zkonBO4-POod",
        "outputId": "3aad5404-d93f-4ef1-fca5-5da974680c98"
      },
      "execution_count": null,
      "outputs": [
        {
          "output_type": "display_data",
          "data": {
            "text/plain": [
              "<Figure size 640x480 with 1 Axes>"
            ],
            "image/png": "[encoded data removed]"
          },
          "metadata": {}
        },
        {
          "output_type": "display_data",
          "data": {
            "text/plain": [
              "<Figure size 640x480 with 1 Axes>"
            ],
            "image/png": "[encoded data removed]"
          },
          "metadata": {}
        }
      ]
    },
    {
      "cell_type": "code",
      "source": [
        "model.eval()\n",
        "accuracy = 0.0\n",
        "with torch.no_grad():\n",
        "  for i,(images, targets) in enumerate(testLoader):\n",
        "    images = images.to(device)\n",
        "    targets = targets.to(device)\n",
        "    labels = model(images)\n",
        "    _, prediction = torch.max(labels,dim=1)\n",
        "    accuracy += (prediction==targets).sum()\n",
        "\n",
        "accuracy /= len(testset)\n",
        "print(f\"Accuracy of test set: {accuracy}\")\n"
      ],
      "metadata": {
        "colab": {
          "base_uri": "https://localhost:8080/"
        },
        "id": "NXNgFbCqQvAP",
        "outputId": "76c514f6-2732-4901-870b-8488eb7a3e78"
      },
      "execution_count": null,
      "outputs": [
        {
          "output_type": "stream",
          "name": "stdout",
          "text": [
            "Accuracy of test set: 0.968000054359436\n"
          ]
        }
      ]
    },
    {
      "cell_type": "markdown",
      "source": [
        "## Part 2"
      ],
      "metadata": {
        "id": "A3l-AZ7zvWi2"
      }
    },
    {
      "cell_type": "code",
      "source": [
        "class MyDataset(Dataset):\n",
        "    def __init__(self, dataset):\n",
        "        super().__init__()\n",
        "        self.classes = [0,1]\n",
        "        self.idxs = [idx for idx, label in enumerate(dataset.targets) if label in self.classes]\n",
        "        self.dataset = dataset\n",
        "        self.transform = dataset.transform\n",
        "        self.new_idxs = self.balance()\n",
        "\n",
        "    def balance(self):\n",
        "        classes = [0,1]\n",
        "        i2class = {0:[],1:[]}\n",
        "        for idx in self.idxs:\n",
        "            label = self.dataset.targets[idx]\n",
        "            if label == 0:\n",
        "                i2class[0].append(idx)\n",
        "            else:\n",
        "                i2class[1].append(idx)\n",
        "\n",
        "        len0 = len(i2class[0]) // 16\n",
        "        len1 = len(i2class[1]) // 16\n",
        "        leni = min(len0,len1)\n",
        "        class0 = torch.tensor(i2class[0])\n",
        "        class1 = torch.tensor(i2class[1])\n",
        "        class0 = class0[torch.randperm(len(class0))]\n",
        "        class1 = class1[torch.randperm(len(class1))]\n",
        "        new_idxs = torch.cat([class0[:leni*16].reshape(-1,16),class1[:leni*16].reshape(-1,16)],dim=1)\n",
        "        permutations = []\n",
        "        for _ in range(leni):\n",
        "          permutations.append(torch.randperm(32))\n",
        "        permutations = torch.stack(permutations,dim=0)\n",
        "        new_idxs = new_idxs[torch.arange(leni)[:,None],permutations].flatten()\n",
        "        res = torch.cat([class0[leni*16:],class1[leni*16:]])\n",
        "        res = res[torch.randperm(len(res))]\n",
        "        new_idxs = torch.cat([new_idxs,res])\n",
        "        return new_idxs\n",
        "\n",
        "    def __getitem__(self, index):\n",
        "        target = self.dataset.targets[self.new_idxs[index]]\n",
        "        image = self.dataset.data[self.new_idxs[index]]\n",
        "        image = self.transform(image)\n",
        "        return (image, target)\n",
        "\n",
        "    def __len__(self):\n",
        "        return len(self.idxs)"
      ],
      "metadata": {
        "id": "lo8L4dllvVFY"
      },
      "execution_count": null,
      "outputs": []
    },
    {
      "cell_type": "code",
      "source": [
        "batch_size = 32\n",
        "device = torch.device('cuda' if torch.cuda.is_available() else 'cpu')\n",
        "\n",
        "my_transform = transforms.Compose([\n",
        "    transforms.ToTensor(),\n",
        "    transforms.Resize((224,224),antialias=True),\n",
        "    transforms.Normalize([0.485, 0.456, 0.406],[0.229, 0.224, 0.225])\n",
        "])\n",
        "\n",
        "trainData = CIFAR10('.',train=True,download=True,transform=my_transform)\n",
        "testData = CIFAR10('.',train=False,download=True,transform=my_transform)\n",
        "\n",
        "trainset = MyDataset(trainData)\n",
        "testset = MyDataset(testData)\n",
        "\n",
        "trainLoader = DataLoader(trainset,batch_size)\n",
        "testLoader = DataLoader(testset,batch_size)"
      ],
      "metadata": {
        "colab": {
          "base_uri": "https://localhost:8080/"
        },
        "id": "b-urED8-v1Bc",
        "outputId": "f089f36b-9d6b-47eb-e6d3-0fa380662551"
      },
      "execution_count": null,
      "outputs": [
        {
          "output_type": "stream",
          "name": "stdout",
          "text": [
            "Files already downloaded and verified\n",
            "Files already downloaded and verified\n"
          ]
        }
      ]
    },
    {
      "cell_type": "code",
      "source": [
        "class tripletLoss(nn.Module):\n",
        "    def __init__(self):\n",
        "        super().__init__()\n",
        "\n",
        "    def create_mask(self,targets):\n",
        "        B = len(targets)\n",
        "        # i != j\n",
        "        mask11 = torch.logical_not(torch.eye(B,device=torch.device('cuda')))\n",
        "\n",
        "        # l(i) = l(j)\n",
        "        mask12 = targets[:,None] == targets[None,:]\n",
        "\n",
        "        # l(i) = l(j) and i != j\n",
        "        mask1 = mask11 * mask12\n",
        "        i1, j = torch.where(mask1==True)\n",
        "\n",
        "        # l(k) != l(i)=l(j)\n",
        "        mask2 = targets[:,None] != targets[None,:]\n",
        "\n",
        "        mask = mask1[:,:,None] * mask2[:,None,:]\n",
        "        return mask\n",
        "\n",
        "    def loss_matrix(self,features):\n",
        "        m = features @ features.t()\n",
        "        d = m.diag()\n",
        "        distance_matrix = d[:,None] + d[None,:] - 2*m\n",
        "        L = distance_matrix[:,:,None] - distance_matrix[:,None,:]\n",
        "        return L\n",
        "\n",
        "    def forward(self,features, targets):\n",
        "        mask = self.create_mask(targets)\n",
        "        loss = self.loss_matrix(features)\n",
        "        loss = loss[mask]\n",
        "        loss = torch.maximum(loss,torch.zeros_like(loss)).mean()\n",
        "        return loss\n",
        "\n",
        "\n",
        "class Resnet(nn.Module):\n",
        "    def __init__(self, class_num, mode='feature'):\n",
        "        super().__init__()\n",
        "        assert mode in {'feature','class','both'}\n",
        "        self.mode = mode\n",
        "        self.resnet = models.resnet50(models.ResNet50_Weights.IMAGENET1K_V2)\n",
        "        self.features = self.resnet.fc.in_features\n",
        "        self.resnet = torch.nn.Sequential(*list(self.resnet.children())[:-1])\n",
        "\n",
        "        if mode == 'class':\n",
        "          self.resnet.load_state_dict(torch.load('/content/drive/MyDrive/resnet_params.pth'))\n",
        "          for param in self.resnet.parameters():\n",
        "              param.requires_grad = False\n",
        "          self.lin = nn.Linear(self.features,class_num)\n",
        "\n",
        "          if mode == 'both':\n",
        "            self.lin = nn.Linear(self.features,class_num)\n",
        "\n",
        "    def forward(self,x:torch.Tensor):\n",
        "        x = self.resnet(x).squeeze()\n",
        "        if self.mode == 'class' or self.mode == 'both':\n",
        "          x = self.lin(x)\n",
        "        return x"
      ],
      "metadata": {
        "id": "3vkL_7uN3Y-b"
      },
      "execution_count": null,
      "outputs": []
    },
    {
      "cell_type": "code",
      "source": [
        "model = Resnet(class_num=2, mode='feature').to(device)\n",
        "criterion = tripletLoss().to(device)\n",
        "optimizer = torch.optim.Adam(model.parameters(),lr=0.001)\n",
        "\n",
        "num_epochs = 10\n",
        "losses = []\n",
        "len_trainLoader = len(trainLoader)\n",
        "for epoch in range(num_epochs):\n",
        "  model.train()\n",
        "  current_loss = 0.0\n",
        "  tqdm_bar = tqdm(trainLoader, desc=f'Training Epoch {epoch} ', total=int(len_trainLoader))\n",
        "  for i,(images, targets) in enumerate(tqdm_bar):\n",
        "    images = images.to(device)\n",
        "    targets = targets.to(device)\n",
        "    features = model(images)\n",
        "    optimizer.zero_grad()\n",
        "    loss = criterion(features,targets)\n",
        "    loss.backward()\n",
        "    optimizer.step()\n",
        "    current_loss += loss.item()\n",
        "\n",
        "  current_loss /= len_trainLoader\n",
        "  losses.append(current_loss)\n",
        "  print(f\"Loss: {current_loss}\")\n",
        "  torch.save(model.resnet.state_dict(), '/content/drive/MyDrive/resnet_params.pth')\n"
      ],
      "metadata": {
        "id": "dH5j_NhZ6aO1"
      },
      "execution_count": null,
      "outputs": []
    },
    {
      "cell_type": "code",
      "source": [
        "plt.figure()\n",
        "plt.plot(range(num_epochs),losses)\n",
        "plt.title(\"Plot of Loss versus Epoch\")\n",
        "plt.ylabel(\"loss\")\n",
        "plt.xlabel(\"epoch\")\n",
        "plt.show()\n"
      ],
      "metadata": {
        "colab": {
          "base_uri": "https://localhost:8080/",
          "height": 472
        },
        "id": "bYqOQyYdMKsG",
        "outputId": "0736ceaa-95f7-4e2f-db7c-f8a439c0e6a1"
      },
      "execution_count": null,
      "outputs": [
        {
          "output_type": "display_data",
          "data": {
            "text/plain": [
              "<Figure size 640x480 with 1 Axes>"
            ],
            "image/png": "[encoded data removed]"
          },
          "metadata": {}
        }
      ]
    },
    {
      "cell_type": "code",
      "source": [
        "model = Resnet(class_num=2, mode='class').to(device)\n",
        "criterion = nn.CrossEntropyLoss().to(device)\n",
        "optimizer = torch.optim.Adam(model.parameters(),lr=0.001)\n",
        "\n",
        "num_epochs = 10\n",
        "losses = []\n",
        "accuracies = []\n",
        "len_trainLoader = len(trainLoader)\n",
        "num_images = len(trainset)\n",
        "for epoch in range(num_epochs):\n",
        "  model.train()\n",
        "  current_loss = 0.0\n",
        "  accuracy = 0.0\n",
        "  tqdm_bar = tqdm(trainLoader, desc=f'Training Epoch {epoch} ', total=int(len_trainLoader))\n",
        "  for i,(images, targets) in enumerate(tqdm_bar):\n",
        "    images = images.to(device)\n",
        "    targets = targets.to(device)\n",
        "    labels = model(images)\n",
        "    optimizer.zero_grad()\n",
        "    loss = criterion(labels,targets)\n",
        "    loss.backward()\n",
        "    optimizer.step()\n",
        "    current_loss += loss.item()\n",
        "    _, prediction = torch.max(labels,dim=1)\n",
        "    accuracy += (prediction==targets).sum()/batch_size # to prevent overflow.\n",
        "\n",
        "  current_loss /= len_trainLoader\n",
        "  losses.append(current_loss)\n",
        "  accuracy = accuracy*batch_size/num_images\n",
        "  accuracies.append(accuracy)\n",
        "  print(f\"Loss: {current_loss}, Accuracy: {accuracy}\")\n",
        "  torch.save(model.state_dict(), '/content/drive/MyDrive/Resnet50_tripleLoss.pth')\n"
      ],
      "metadata": {
        "colab": {
          "base_uri": "https://localhost:8080/"
        },
        "id": "6TFUZOgnkTMd",
        "outputId": "e341d8d4-8cf2-437e-adbb-7155b0148bc0"
      },
      "execution_count": null,
      "outputs": [
        {
          "output_type": "stream",
          "name": "stderr",
          "text": [
            "/usr/local/lib/python3.10/dist-packages/torchvision/models/_utils.py:135: UserWarning: Using 'weights' as positional parameter(s) is deprecated since 0.13 and may be removed in the future. Please use keyword parameter(s) instead.\n",
            "  warnings.warn(\n",
            "Training Epoch 0 : 100%|██████████| 313/313 [01:30<00:00,  3.44it/s]\n"
          ]
        },
        {
          "output_type": "stream",
          "name": "stdout",
          "text": [
            "Loss: 0.69310873804001, Accuracy: 0.5073999762535095\n"
          ]
        },
        {
          "output_type": "stream",
          "name": "stderr",
          "text": [
            "Training Epoch 1 : 100%|██████████| 313/313 [01:30<00:00,  3.46it/s]\n"
          ]
        },
        {
          "output_type": "stream",
          "name": "stdout",
          "text": [
            "Loss: 0.6930492392744119, Accuracy: 0.5159000158309937\n"
          ]
        },
        {
          "output_type": "stream",
          "name": "stderr",
          "text": [
            "Training Epoch 2 : 100%|██████████| 313/313 [01:33<00:00,  3.37it/s]\n"
          ]
        },
        {
          "output_type": "stream",
          "name": "stdout",
          "text": [
            "Loss: 0.692983189901224, Accuracy: 0.5162999629974365\n"
          ]
        },
        {
          "output_type": "stream",
          "name": "stderr",
          "text": [
            "Training Epoch 3 : 100%|██████████| 313/313 [01:39<00:00,  3.14it/s]\n"
          ]
        },
        {
          "output_type": "stream",
          "name": "stdout",
          "text": [
            "Loss: 0.692916001184299, Accuracy: 0.5166999697685242\n"
          ]
        },
        {
          "output_type": "stream",
          "name": "stderr",
          "text": [
            "Training Epoch 4 : 100%|██████████| 313/313 [01:27<00:00,  3.58it/s]\n"
          ]
        },
        {
          "output_type": "stream",
          "name": "stdout",
          "text": [
            "Loss: 0.6928492830203364, Accuracy: 0.5167999863624573\n"
          ]
        },
        {
          "output_type": "stream",
          "name": "stderr",
          "text": [
            "Training Epoch 5 : 100%|██████████| 313/313 [01:39<00:00,  3.14it/s]\n"
          ]
        },
        {
          "output_type": "stream",
          "name": "stdout",
          "text": [
            "Loss: 0.6927835895611455, Accuracy: 0.5169999599456787\n"
          ]
        },
        {
          "output_type": "stream",
          "name": "stderr",
          "text": [
            "Training Epoch 6 : 100%|██████████| 313/313 [01:32<00:00,  3.38it/s]\n"
          ]
        },
        {
          "output_type": "stream",
          "name": "stdout",
          "text": [
            "Loss: 0.6927191571305735, Accuracy: 0.5171999931335449\n"
          ]
        },
        {
          "output_type": "stream",
          "name": "stderr",
          "text": [
            "Training Epoch 7 : 100%|██████████| 313/313 [01:26<00:00,  3.63it/s]\n"
          ]
        },
        {
          "output_type": "stream",
          "name": "stdout",
          "text": [
            "Loss: 0.6926560639954222, Accuracy: 0.5170999765396118\n"
          ]
        },
        {
          "output_type": "stream",
          "name": "stderr",
          "text": [
            "Training Epoch 8 : 100%|██████████| 313/313 [01:39<00:00,  3.14it/s]\n"
          ]
        },
        {
          "output_type": "stream",
          "name": "stdout",
          "text": [
            "Loss: 0.692594345194844, Accuracy: 0.5173999667167664\n"
          ]
        },
        {
          "output_type": "stream",
          "name": "stderr",
          "text": [
            "Training Epoch 9 : 100%|██████████| 313/313 [01:37<00:00,  3.20it/s]\n"
          ]
        },
        {
          "output_type": "stream",
          "name": "stdout",
          "text": [
            "Loss: 0.692533977115497, Accuracy: 0.5175999999046326\n"
          ]
        }
      ]
    },
    {
      "cell_type": "code",
      "source": [
        "plt.figure()\n",
        "plt.plot(range(num_epochs),losses)\n",
        "plt.title(\"Plot of Loss versus Epoch\")\n",
        "plt.ylabel(\"loss\")\n",
        "plt.xlabel(\"epoch\")\n",
        "plt.show()\n",
        "\n",
        "accuracies = [accuracy.cpu() for accuracy in accuracies]\n",
        "plt.figure()\n",
        "plt.plot(range(num_epochs),accuracies)\n",
        "plt.title(\"Plot of Accuracy versus Epoch\")\n",
        "plt.ylabel(\"accuracy\")\n",
        "plt.xlabel(\"epoch\")\n",
        "plt.show()\n"
      ],
      "metadata": {
        "colab": {
          "base_uri": "https://localhost:8080/",
          "height": 927
        },
        "id": "AvqJo2dzq1a3",
        "outputId": "f2a215cc-c731-4a9a-bb74-42562ac47009"
      },
      "execution_count": null,
      "outputs": [
        {
          "output_type": "display_data",
          "data": {
            "text/plain": [
              "<Figure size 640x480 with 1 Axes>"
            ],
            "image/png": "[encoded data removed]"
          },
          "metadata": {}
        },
        {
          "output_type": "display_data",
          "data": {
            "text/plain": [
              "<Figure size 640x480 with 1 Axes>"
            ],
            "image/png": "[encoded data removed]"
          },
          "metadata": {}
        }
      ]
    },
    {
      "cell_type": "code",
      "source": [
        "model.eval()\n",
        "accuracy = 0.0\n",
        "with torch.no_grad():\n",
        "  for i,(images, targets) in enumerate(testLoader):\n",
        "    images = images.to(device)\n",
        "    targets = targets.to(device)\n",
        "    labels = model(images)\n",
        "    _, prediction = torch.max(labels,dim=1)\n",
        "    accuracy += (prediction==targets).sum()\n",
        "\n",
        "accuracy /= len(testset)\n",
        "print(f\"Accuracy of test set: {accuracy}\")\n"
      ],
      "metadata": {
        "colab": {
          "base_uri": "https://localhost:8080/"
        },
        "id": "BS4iPbhoq597",
        "outputId": "fe9a3c53-6bf9-4ade-ede6-e1c2b97f4fe8"
      },
      "execution_count": null,
      "outputs": [
        {
          "output_type": "stream",
          "name": "stdout",
          "text": [
            "Accuracy of test set: 0.5110000371932983\n"
          ]
        }
      ]
    },
    {
      "cell_type": "markdown",
      "source": [
        "# Part 3"
      ],
      "metadata": {
        "id": "UQ2i9XjirIGG"
      }
    },
    {
      "cell_type": "code",
      "source": [
        "class tripletLoss(nn.Module):\n",
        "    def __init__(self):\n",
        "        super().__init__()\n",
        "\n",
        "    def create_mask(self,targets):\n",
        "        B = len(targets)\n",
        "        # i != j\n",
        "        mask11 = torch.logical_not(torch.eye(B,device=torch.device('cuda')))\n",
        "\n",
        "        # l(i) = l(j)\n",
        "        mask12 = targets[:,None] == targets[None,:]\n",
        "\n",
        "        # l(i) = l(j) and i != j\n",
        "        mask1 = mask11 * mask12\n",
        "        i1, j = torch.where(mask1==True)\n",
        "\n",
        "        # l(k) != l(i)=l(j)\n",
        "        mask2 = targets[:,None] != targets[None,:]\n",
        "\n",
        "        mask = mask1[:,:,None] * mask2[:,None,:]\n",
        "        return mask\n",
        "\n",
        "    def loss_matrix(self,features):\n",
        "        m = features @ features.t()\n",
        "        d = m.diag()\n",
        "        distance_matrix = d[:,None] + d[None,:] - 2*m\n",
        "        L = distance_matrix[:,:,None] - distance_matrix[:,None,:]\n",
        "        return L\n",
        "\n",
        "    def forward(self,features, targets):\n",
        "        mask = self.create_mask(targets)\n",
        "        loss = self.loss_matrix(features)\n",
        "        loss = loss[mask]\n",
        "        loss = torch.maximum(loss,torch.zeros_like(loss)).mean()\n",
        "        return loss\n",
        "\n",
        "\n",
        "class Resnet_total(nn.Module):\n",
        "    def __init__(self, class_num):\n",
        "        super().__init__()\n",
        "        self.resnet = models.resnet50(models.ResNet50_Weights.IMAGENET1K_V2)\n",
        "        self.features = self.resnet.fc.in_features\n",
        "        self.resnet = torch.nn.Sequential(*list(self.resnet.children())[:-1])\n",
        "        self.lin = nn.Linear(self.features,class_num)\n",
        "\n",
        "    def forward(self,x:torch.Tensor):\n",
        "        x = self.resnet(x).squeeze()\n",
        "        features = x\n",
        "        x = self.lin(x)\n",
        "        return x, features"
      ],
      "metadata": {
        "id": "HlaxvwPhsVYj"
      },
      "execution_count": null,
      "outputs": []
    },
    {
      "cell_type": "code",
      "source": [
        "model = Resnet_total(class_num=2).to(device)\n",
        "criterion_triplet = tripletLoss().to(device)\n",
        "criterion_entropy = nn.CrossEntropyLoss().to(device)\n",
        "optimizer = torch.optim.Adam(model.parameters(),lr=0.001)\n",
        "\n",
        "num_epochs = 10\n",
        "losses = []\n",
        "accuracies = []\n",
        "len_trainLoader = len(trainLoader)\n",
        "num_images = len(trainset)\n",
        "for epoch in range(num_epochs):\n",
        "  model.train()\n",
        "  current_loss = 0.0\n",
        "  accuracy = 0.0\n",
        "  tqdm_bar = tqdm(trainLoader, desc=f'Training Epoch {epoch} ', total=int(len_trainLoader))\n",
        "  for i,(images, targets) in enumerate(tqdm_bar):\n",
        "    images = images.to(device)\n",
        "    targets = targets.to(device)\n",
        "    labels, features = model(images)\n",
        "    optimizer.zero_grad()\n",
        "    loss_entropy = criterion_entropy(labels,targets)\n",
        "    loss_triplet = criterion_triplet(features,targets)\n",
        "    loss = loss_entropy + loss_triplet\n",
        "    loss.backward()\n",
        "    optimizer.step()\n",
        "    current_loss += loss.item()\n",
        "    _, prediction = torch.max(labels,dim=1)\n",
        "    accuracy += (prediction==targets).sum()/batch_size # to prevent overflow.\n",
        "\n",
        "  current_loss /= len_trainLoader\n",
        "  losses.append(current_loss)\n",
        "  accuracy = accuracy*batch_size/num_images\n",
        "  accuracies.append(accuracy)\n",
        "  print(f\"Loss: {current_loss}, Accuracy: {accuracy}\")\n",
        "  torch.save(model.state_dict(), '/content/drive/MyDrive/Resnet50_total.pth')\n"
      ],
      "metadata": {
        "colab": {
          "base_uri": "https://localhost:8080/"
        },
        "id": "mf5I6uEerBrd",
        "outputId": "35a851fa-6a46-47b1-9005-25f47a07e61f"
      },
      "execution_count": null,
      "outputs": [
        {
          "output_type": "stream",
          "name": "stderr",
          "text": [
            "/usr/local/lib/python3.10/dist-packages/torchvision/models/_utils.py:135: UserWarning: Using 'weights' as positional parameter(s) is deprecated since 0.13 and may be removed in the future. Please use keyword parameter(s) instead.\n",
            "  warnings.warn(\n",
            "Training Epoch 0 : 100%|██████████| 313/313 [03:11<00:00,  1.63it/s]\n"
          ]
        },
        {
          "output_type": "stream",
          "name": "stdout",
          "text": [
            "Loss: 0.4147936611320264, Accuracy: 0.9659000039100647\n"
          ]
        },
        {
          "output_type": "stream",
          "name": "stderr",
          "text": [
            "Training Epoch 1 : 100%|██████████| 313/313 [03:07<00:00,  1.67it/s]\n"
          ]
        },
        {
          "output_type": "stream",
          "name": "stdout",
          "text": [
            "Loss: 0.06699552719098942, Accuracy: 0.9909999966621399\n"
          ]
        },
        {
          "output_type": "stream",
          "name": "stderr",
          "text": [
            "Training Epoch 2 : 100%|██████████| 313/313 [03:07<00:00,  1.67it/s]\n"
          ]
        },
        {
          "output_type": "stream",
          "name": "stdout",
          "text": [
            "Loss: 0.04620502473482975, Accuracy: 0.9932999610900879\n"
          ]
        },
        {
          "output_type": "stream",
          "name": "stderr",
          "text": [
            "Training Epoch 3 : 100%|██████████| 313/313 [03:08<00:00,  1.66it/s]\n"
          ]
        },
        {
          "output_type": "stream",
          "name": "stdout",
          "text": [
            "Loss: 0.0319748813554774, Accuracy: 0.995199978351593\n"
          ]
        },
        {
          "output_type": "stream",
          "name": "stderr",
          "text": [
            "Training Epoch 4 : 100%|██████████| 313/313 [03:08<00:00,  1.66it/s]\n"
          ]
        },
        {
          "output_type": "stream",
          "name": "stdout",
          "text": [
            "Loss: 0.035967973206611055, Accuracy: 0.9934999942779541\n"
          ]
        },
        {
          "output_type": "stream",
          "name": "stderr",
          "text": [
            "Training Epoch 5 : 100%|██████████| 313/313 [03:09<00:00,  1.65it/s]\n"
          ]
        },
        {
          "output_type": "stream",
          "name": "stdout",
          "text": [
            "Loss: 0.026051542571706388, Accuracy: 0.9953999519348145\n"
          ]
        },
        {
          "output_type": "stream",
          "name": "stderr",
          "text": [
            "Training Epoch 6 : 100%|██████████| 313/313 [03:07<00:00,  1.67it/s]\n"
          ]
        },
        {
          "output_type": "stream",
          "name": "stdout",
          "text": [
            "Loss: 0.027233888749304724, Accuracy: 0.9949999451637268\n"
          ]
        },
        {
          "output_type": "stream",
          "name": "stderr",
          "text": [
            "Training Epoch 7 : 100%|██████████| 313/313 [03:08<00:00,  1.66it/s]\n"
          ]
        },
        {
          "output_type": "stream",
          "name": "stdout",
          "text": [
            "Loss: 0.026768373145102397, Accuracy: 0.9946999549865723\n"
          ]
        },
        {
          "output_type": "stream",
          "name": "stderr",
          "text": [
            "Training Epoch 8 : 100%|██████████| 313/313 [03:16<00:00,  1.59it/s]\n"
          ]
        },
        {
          "output_type": "stream",
          "name": "stdout",
          "text": [
            "Loss: 0.03046565456501842, Accuracy: 0.9939000010490417\n"
          ]
        },
        {
          "output_type": "stream",
          "name": "stderr",
          "text": [
            "Training Epoch 9 : 100%|██████████| 313/313 [03:14<00:00,  1.61it/s]\n"
          ]
        },
        {
          "output_type": "stream",
          "name": "stdout",
          "text": [
            "Loss: 0.02606685038758929, Accuracy: 0.9949999451637268\n"
          ]
        }
      ]
    },
    {
      "cell_type": "code",
      "source": [
        "plt.figure()\n",
        "plt.plot(range(num_epochs),losses)\n",
        "plt.title(\"Plot of Loss versus Epoch\")\n",
        "plt.ylabel(\"loss\")\n",
        "plt.xlabel(\"epoch\")\n",
        "plt.show()\n",
        "\n",
        "accuracies = [accuracy.cpu() for accuracy in accuracies]\n",
        "plt.figure()\n",
        "plt.plot(range(num_epochs),accuracies)\n",
        "plt.title(\"Plot of Accuracy versus Epoch\")\n",
        "plt.ylabel(\"accuracy\")\n",
        "plt.xlabel(\"epoch\")\n",
        "plt.show()\n"
      ],
      "metadata": {
        "colab": {
          "base_uri": "https://localhost:8080/",
          "height": 927
        },
        "id": "oTMye-VP2tce",
        "outputId": "8cb1a380-be63-4c38-886d-302c613431f1"
      },
      "execution_count": null,
      "outputs": [
        {
          "output_type": "display_data",
          "data": {
            "text/plain": [
              "<Figure size 640x480 with 1 Axes>"
            ],
            "image/png": "[encoded data removed]"
          },
          "metadata": {}
        },
        {
          "output_type": "display_data",
          "data": {
            "text/plain": [
              "<Figure size 640x480 with 1 Axes>"
            ],
            "image/png": "[encoded data removed]"
          },
          "metadata": {}
        }
      ]
    },
    {
      "cell_type": "code",
      "source": [
        "model.eval()\n",
        "accuracy = 0.0\n",
        "with torch.no_grad():\n",
        "  for i,(images, targets) in enumerate(testLoader):\n",
        "    images = images.to(device)\n",
        "    targets = targets.to(device)\n",
        "    labels,_ = model(images)\n",
        "    _, prediction = torch.max(labels,dim=1)\n",
        "    accuracy += (prediction==targets).sum()\n",
        "\n",
        "accuracy /= len(testset)\n",
        "print(f\"Accuracy of test set: {accuracy}\")\n"
      ],
      "metadata": {
        "colab": {
          "base_uri": "https://localhost:8080/"
        },
        "id": "UJadjMVE2xb7",
        "outputId": "3e6a0582-3601-4dda-aee8-5a5faf0a236e"
      },
      "execution_count": null,
      "outputs": [
        {
          "output_type": "stream",
          "name": "stdout",
          "text": [
            "Accuracy of test set: 0.9890000224113464\n"
          ]
        }
      ]
    }
  ]
}
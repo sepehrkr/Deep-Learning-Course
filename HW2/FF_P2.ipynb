{
  "nbformat": 4,
  "nbformat_minor": 0,
  "metadata": {
    "colab": {
      "provenance": [],
      "gpuType": "T4"
    },
    "kernelspec": {
      "name": "python3",
      "display_name": "Python 3"
    },
    "language_info": {
      "name": "python"
    },
    "accelerator": "GPU"
  },
  "cells": [
    {
      "cell_type": "code",
      "execution_count": 22,
      "metadata": {
        "id": "Ns1sHtdOfKvM"
      },
      "outputs": [],
      "source": [
        "import matplotlib.pyplot as plt\n",
        "import torch\n",
        "import torch.nn as nn\n",
        "from tqdm import tqdm\n",
        "from torch.optim import Adam\n",
        "from torchvision.datasets import MNIST\n",
        "from torchvision.transforms import Compose, ToTensor, Normalize, Lambda\n",
        "from torch.utils.data import DataLoader\n",
        "from torchvision import transforms\n",
        "import random\n",
        "from scipy.signal import convolve2d\n",
        "import numpy as np"
      ]
    },
    {
      "cell_type": "code",
      "source": [
        "# define model\n",
        "def mask_generator():\n",
        "    random_index = np.random.randint(5,10)\n",
        "    random_image = np.random.randint(2, size=(1,28,28)).squeeze().astype(np.float32)\n",
        "    filter = np.array([[1, 2, 1], [2, 4, 2], [1, 2, 1]]) / 16\n",
        "    for i in range(random_index):\n",
        "        random_image = convolve2d(random_image, filter, mode='same', boundary='symm')\n",
        "    mask = (random_image > 0.5).astype(np.float32)\n",
        "    return mask\n",
        "\n",
        "def negative_data_generator(image_batch):\n",
        "    idxs = torch.randperm(image_batch.shape[0])\n",
        "    x = image_batch[idxs]\n",
        "    mask = torch.from_numpy(mask_generator())\n",
        "    hybrid_images = x * mask + (1-mask) * x\n",
        "    return hybrid_images\n",
        "\n",
        "class FFLayer(nn.Module):\n",
        "  def __init__(self,input_dim,output_dim,threshold=2.0,epochs=100):\n",
        "      super().__init__()\n",
        "      self.lin = nn.Linear(input_dim,output_dim)\n",
        "      self.relu = nn.ReLU()\n",
        "      self.optim = torch.optim.Adam(self.parameters(),lr=0.03)\n",
        "      self.epochs = epochs\n",
        "      self.threshold = threshold\n",
        "\n",
        "  def forward(self,x):\n",
        "    # x has shape B x D\n",
        "    x = x / (x.norm(p=2,dim=1,keepdim=True)+1e-4)\n",
        "    x = self.lin(x)\n",
        "    return self.relu(x)\n",
        "\n",
        "  def forward_forward(self,x_pos,x_neg):\n",
        "    # x has shape B x h x w\n",
        "    for epoch in range(self.epochs):\n",
        "      h_pos = self.forward(x_pos)\n",
        "      h_neg = self.forward(x_neg)\n",
        "      good_pos = (self.threshold-h_pos**2).mean(dim=1)\n",
        "      good_neg = (h_neg**2-self.threshold).mean(dim=1)\n",
        "      self.optim.zero_grad()\n",
        "      loss = torch.log(1+torch.exp(torch.cat([good_pos,good_neg]))).mean()\n",
        "      loss.backward()\n",
        "      self.optim.step()\n",
        "\n",
        "    return self.forward(x_pos).detach(), self.forward(x_neg).detach()\n",
        "\n",
        "\n",
        "class FF(nn.Module):\n",
        "  def __init__(self,input_dim, hidden_dims,device,threshold=2.0,epochs=100):\n",
        "      super().__init__()\n",
        "      self.epochs = epochs\n",
        "      self.threshold = threshold\n",
        "      self.layers = []\n",
        "      self.layers.append(FFLayer(input_dim,hidden_dims[0],threshold,epochs).to(device))\n",
        "      for i in range(1,len(hidden_dims)):\n",
        "        self.layers.append(FFLayer(hidden_dims[i-1],hidden_dims[i],threshold,epochs).to(device))\n",
        "\n",
        "  def train(self,x_pos, x_neg):\n",
        "    h_pos = x_pos.reshape((x_pos.shape[0],-1))\n",
        "    h_neg = x_neg.reshape((x_pos.shape[0],-1))\n",
        "    for layer in self.layers:\n",
        "      h_pos, h_neg = layer.forward_forward(h_pos,h_neg)\n",
        "\n",
        "  def test(self,x_pos,x_neg):\n",
        "    with torch.no_grad():\n",
        "      h_pos = x_pos.reshape((x_pos.shape[0],-1))\n",
        "      h_neg = x_neg.reshape((x_pos.shape[0],-1))\n",
        "      losses = []\n",
        "      for layer in self.layers:\n",
        "        h_pos = layer.forward(h_pos)\n",
        "        h_neg = layer.forward(h_neg)\n",
        "        good_pos = (self.threshold-h_pos**2).mean(dim=1)\n",
        "        good_neg = (h_neg**2-self.threshold).mean(dim=1)\n",
        "        loss = torch.log(1+torch.exp(torch.cat([good_pos,good_neg]))).mean()\n",
        "        losses.append(loss.item())\n",
        "\n",
        "      final_loss = np.array(losses).mean()\n",
        "      return final_loss\n",
        "\n",
        "  def inference(self,x):\n",
        "    with torch.no_grad():\n",
        "      x = x.reshape((x.shape[0],-1))\n",
        "      for layer in self.layers:\n",
        "        x = layer.forward(x)\n",
        "      return x"
      ],
      "metadata": {
        "id": "a1pnD15xfUaU"
      },
      "execution_count": 24,
      "outputs": []
    },
    {
      "cell_type": "code",
      "source": [
        "# load dataset\n",
        "transform = Compose([ToTensor()])\n",
        "trainset = MNIST('.',train=True,download=True,transform=transform)\n",
        "testset = MNIST('.',train=False, download=True,transform=transform)\n",
        "\n",
        "batch_size = 1024\n",
        "trainLoader = DataLoader(trainset,batch_size,shuffle=True)\n",
        "testLoader = DataLoader(testset,batch_size,shuffle=True)"
      ],
      "metadata": {
        "id": "lYesL4ZKfV-3"
      },
      "execution_count": 25,
      "outputs": []
    },
    {
      "cell_type": "code",
      "source": [
        "#train FF\n",
        "input_dim = 784\n",
        "hidden_dims = [512,512,512,512]\n",
        "device = torch.device('cuda' if torch.cuda.is_available() else 'cpu')\n",
        "model = FF(input_dim, hidden_dims,device,epochs=100).to(device)\n",
        "\n",
        "for x_pos,_ in tqdm(trainLoader):\n",
        "  x_neg =  negative_data_generator(x_pos)\n",
        "  x_neg = x_neg.to(device)\n",
        "  x_pos = x_pos.to(device)\n",
        "  model.train(x_pos,x_neg)"
      ],
      "metadata": {
        "colab": {
          "base_uri": "https://localhost:8080/"
        },
        "id": "fqXP8qAifXSG",
        "outputId": "cc979640-fcca-4f09-dcb8-4a1f5fdd2ce7"
      },
      "execution_count": 26,
      "outputs": [
        {
          "output_type": "stream",
          "name": "stderr",
          "text": [
            "100%|██████████| 59/59 [00:52<00:00,  1.12it/s]\n"
          ]
        }
      ]
    },
    {
      "cell_type": "code",
      "source": [
        "# test FF\n",
        "testLoss = 0.0\n",
        "for x_pos,_ in tqdm(testLoader):\n",
        "  x_neg =  negative_data_generator(x_pos)\n",
        "  x_neg = x_neg.to(device)\n",
        "  x_pos = x_pos.to(device)\n",
        "  testLoss += model.test(x_pos,x_neg)\n",
        "testLoss = testLoss / len(testLoader)\n",
        "\n",
        "trainLoss = 0.0\n",
        "for x_pos,_ in tqdm(trainLoader):\n",
        "  x_neg =  negative_data_generator(x_pos)\n",
        "  x_neg = x_neg.to(device)\n",
        "  x_pos = x_pos.to(device)\n",
        "  trainLoss += model.test(x_pos,x_neg)\n",
        "trainLoss = trainLoss / len(trainLoader)\n",
        "print(f'train loss: {trainLoss}')\n",
        "print(f'test loss: {testLoss}')"
      ],
      "metadata": {
        "colab": {
          "base_uri": "https://localhost:8080/"
        },
        "id": "_GKmW5E4g6mK",
        "outputId": "f1fb3b22-1db9-4383-bb8a-8c11a26215ee"
      },
      "execution_count": 18,
      "outputs": [
        {
          "output_type": "stream",
          "name": "stderr",
          "text": [
            "100%|██████████| 10/10 [00:01<00:00,  6.51it/s]\n",
            "100%|██████████| 59/59 [00:06<00:00,  8.62it/s]"
          ]
        },
        {
          "output_type": "stream",
          "name": "stdout",
          "text": [
            "train loss: 0.6931644491219925\n",
            "test loss: 0.693164199590683\n"
          ]
        },
        {
          "output_type": "stream",
          "name": "stderr",
          "text": [
            "\n"
          ]
        }
      ]
    },
    {
      "cell_type": "code",
      "source": [
        "torch.save(model.state_dict(), './FF.pth')"
      ],
      "metadata": {
        "id": "j4s3n3IGi-5Z"
      },
      "execution_count": 27,
      "outputs": []
    },
    {
      "cell_type": "code",
      "source": [
        "# define classifier\n",
        "class LinearClassifier(nn.Module):\n",
        "  def __init__(self,input_dim, num_classes, hidden_dims,device,threshold=2.0,epochs=100):\n",
        "     super().__init__()\n",
        "     self.ff = FF(input_dim, hidden_dims,device,threshold=2.0,epochs=100).to(device)\n",
        "     self.ff.load_state_dict(torch.load('./FF.pth'))\n",
        "     self.lin = nn.Linear(hidden_dims[-1],num_classes)\n",
        "\n",
        "  def forward(self,x):\n",
        "    x = self.ff.inference(x)\n",
        "    x = self.lin(x)\n",
        "    return x"
      ],
      "metadata": {
        "id": "W1Gj5HmjiDas"
      },
      "execution_count": 31,
      "outputs": []
    },
    {
      "cell_type": "markdown",
      "source": [
        "با دیتای منفی و هزینه که شبکه آموزش داده شده، در عمل یاد میگیرد که ساختار ارقام را کد کند. جون تصویر منفی ساختار نامنظمی دارد درنتیجه با کم کردن حساسایت روی آن ها و افزایش حاسایت روی تصویر واقعی یاد میگیرد که  که اعداد تک رقمی چگونه نوشته میشوند. سپس با این بردار ویژگی آنها را طبقه بندی میکند."
      ],
      "metadata": {
        "id": "iFLS-U7in6HI"
      }
    },
    {
      "cell_type": "markdown",
      "source": [
        "چون هدف این بوده که\n",
        "طبقه بند خطی باشد چون مان یک بردار ویژگی یاد گرفتیم و امنتظار داریم که به خوبی ارقام را تشخیص ندهد یعنی بتواند با مرزهای خطی ارقام را جدا کند. اگر بخواهیم از لایه های غیر خطی استفاده کنیم نمی توان کارایی روش غیر نظارتی را سنجید.\n",
        "\n",
        "\n",
        "\n",
        "\n",
        "\n",
        "\n"
      ],
      "metadata": {
        "id": "Kx_d1B7QoncY"
      }
    },
    {
      "cell_type": "markdown",
      "source": [
        "پیاده سازی کلی مانند قسمت قبل است فقط اینجا با آموزش شبکه FF ان را در حالت eval قرار داده و تابع خطی را آزمایش میکنیم."
      ],
      "metadata": {
        "id": "wBu6BaJ2pXHE"
      }
    },
    {
      "cell_type": "code",
      "source": [
        "# train classifier\n",
        "input_dim = 784\n",
        "num_classes = 10\n",
        "hidden_dims = [512,512,512,512]\n",
        "device = torch.device('cuda' if torch.cuda.is_available() else 'cpu')\n",
        "classifier = LinearClassifier(input_dim,num_classes,hidden_dims,device).to(device)\n",
        "criterion = nn.CrossEntropyLoss().to(device)\n",
        "optimizer = torch.optim.Adam(classifier.parameters(),lr=0.03)\n",
        "\n",
        "losses = []\n",
        "for epoch in range(100):\n",
        "  current_loss = 0.0\n",
        "  for image,target in tqdm(trainLoader):\n",
        "    image = image.to(device)\n",
        "    target = target.to(device)\n",
        "    logits = classifier(image)\n",
        "    optimizer.zero_grad()\n",
        "    loss = criterion(logits,target)\n",
        "    loss.backward()\n",
        "    optimizer.step()\n",
        "    current_loss += loss.item()/len(trainLoader)\n",
        "\n",
        "  print(f'epoch {epoch}: loss = {current_loss}')\n",
        "\n"
      ],
      "metadata": {
        "colab": {
          "base_uri": "https://localhost:8080/"
        },
        "id": "yyEFl_a6kJ99",
        "outputId": "c4f218a8-c449-40c8-bf68-23617da2697c"
      },
      "execution_count": 34,
      "outputs": [
        {
          "output_type": "stream",
          "name": "stderr",
          "text": [
            "100%|██████████| 59/59 [00:07<00:00,  7.98it/s]\n"
          ]
        },
        {
          "output_type": "stream",
          "name": "stdout",
          "text": [
            "epoch 0: loss = 2.041261945740651\n"
          ]
        },
        {
          "output_type": "stream",
          "name": "stderr",
          "text": [
            "100%|██████████| 59/59 [00:07<00:00,  8.00it/s]\n"
          ]
        },
        {
          "output_type": "stream",
          "name": "stdout",
          "text": [
            "epoch 1: loss = 1.6143200639951027\n"
          ]
        },
        {
          "output_type": "stream",
          "name": "stderr",
          "text": [
            "100%|██████████| 59/59 [00:07<00:00,  7.75it/s]\n"
          ]
        },
        {
          "output_type": "stream",
          "name": "stdout",
          "text": [
            "epoch 2: loss = 1.334612925173872\n"
          ]
        },
        {
          "output_type": "stream",
          "name": "stderr",
          "text": [
            "100%|██████████| 59/59 [00:06<00:00,  8.79it/s]\n"
          ]
        },
        {
          "output_type": "stream",
          "name": "stdout",
          "text": [
            "epoch 3: loss = 1.1506698131561277\n"
          ]
        },
        {
          "output_type": "stream",
          "name": "stderr",
          "text": [
            "100%|██████████| 59/59 [00:07<00:00,  8.07it/s]\n"
          ]
        },
        {
          "output_type": "stream",
          "name": "stdout",
          "text": [
            "epoch 4: loss = 1.0251260116948921\n"
          ]
        },
        {
          "output_type": "stream",
          "name": "stderr",
          "text": [
            "100%|██████████| 59/59 [00:06<00:00,  9.09it/s]\n"
          ]
        },
        {
          "output_type": "stream",
          "name": "stdout",
          "text": [
            "epoch 5: loss = 0.9337073998936155\n"
          ]
        },
        {
          "output_type": "stream",
          "name": "stderr",
          "text": [
            "100%|██████████| 59/59 [00:07<00:00,  8.39it/s]\n"
          ]
        },
        {
          "output_type": "stream",
          "name": "stdout",
          "text": [
            "epoch 6: loss = 0.8657706339480515\n"
          ]
        },
        {
          "output_type": "stream",
          "name": "stderr",
          "text": [
            "100%|██████████| 59/59 [00:06<00:00,  8.67it/s]\n"
          ]
        },
        {
          "output_type": "stream",
          "name": "stdout",
          "text": [
            "epoch 7: loss = 0.8114706247539842\n"
          ]
        },
        {
          "output_type": "stream",
          "name": "stderr",
          "text": [
            "100%|██████████| 59/59 [00:07<00:00,  8.33it/s]\n"
          ]
        },
        {
          "output_type": "stream",
          "name": "stdout",
          "text": [
            "epoch 8: loss = 0.7687552934986048\n"
          ]
        },
        {
          "output_type": "stream",
          "name": "stderr",
          "text": [
            "100%|██████████| 59/59 [00:06<00:00,  8.70it/s]\n"
          ]
        },
        {
          "output_type": "stream",
          "name": "stdout",
          "text": [
            "epoch 9: loss = 0.7327522079823382\n"
          ]
        },
        {
          "output_type": "stream",
          "name": "stderr",
          "text": [
            "100%|██████████| 59/59 [00:06<00:00,  8.54it/s]\n"
          ]
        },
        {
          "output_type": "stream",
          "name": "stdout",
          "text": [
            "epoch 10: loss = 0.7028719520164747\n"
          ]
        },
        {
          "output_type": "stream",
          "name": "stderr",
          "text": [
            "100%|██████████| 59/59 [00:06<00:00,  8.78it/s]\n"
          ]
        },
        {
          "output_type": "stream",
          "name": "stdout",
          "text": [
            "epoch 11: loss = 0.6776516285993285\n"
          ]
        },
        {
          "output_type": "stream",
          "name": "stderr",
          "text": [
            "100%|██████████| 59/59 [00:06<00:00,  8.60it/s]\n"
          ]
        },
        {
          "output_type": "stream",
          "name": "stdout",
          "text": [
            "epoch 12: loss = 0.6552817942732472\n"
          ]
        },
        {
          "output_type": "stream",
          "name": "stderr",
          "text": [
            "100%|██████████| 59/59 [00:06<00:00,  8.45it/s]\n"
          ]
        },
        {
          "output_type": "stream",
          "name": "stdout",
          "text": [
            "epoch 13: loss = 0.6358742410853757\n"
          ]
        },
        {
          "output_type": "stream",
          "name": "stderr",
          "text": [
            "100%|██████████| 59/59 [00:06<00:00,  8.71it/s]\n"
          ]
        },
        {
          "output_type": "stream",
          "name": "stdout",
          "text": [
            "epoch 14: loss = 0.6182057594848891\n"
          ]
        },
        {
          "output_type": "stream",
          "name": "stderr",
          "text": [
            "100%|██████████| 59/59 [00:06<00:00,  8.43it/s]\n"
          ]
        },
        {
          "output_type": "stream",
          "name": "stdout",
          "text": [
            "epoch 15: loss = 0.6033615237575467\n"
          ]
        },
        {
          "output_type": "stream",
          "name": "stderr",
          "text": [
            "100%|██████████| 59/59 [00:06<00:00,  8.71it/s]\n"
          ]
        },
        {
          "output_type": "stream",
          "name": "stdout",
          "text": [
            "epoch 16: loss = 0.5892314355252155\n"
          ]
        },
        {
          "output_type": "stream",
          "name": "stderr",
          "text": [
            "100%|██████████| 59/59 [00:07<00:00,  8.21it/s]\n"
          ]
        },
        {
          "output_type": "stream",
          "name": "stdout",
          "text": [
            "epoch 17: loss = 0.5772546509564934\n"
          ]
        },
        {
          "output_type": "stream",
          "name": "stderr",
          "text": [
            "100%|██████████| 59/59 [00:06<00:00,  8.89it/s]\n"
          ]
        },
        {
          "output_type": "stream",
          "name": "stdout",
          "text": [
            "epoch 18: loss = 0.5652756802106307\n"
          ]
        },
        {
          "output_type": "stream",
          "name": "stderr",
          "text": [
            "100%|██████████| 59/59 [00:07<00:00,  7.71it/s]\n"
          ]
        },
        {
          "output_type": "stream",
          "name": "stdout",
          "text": [
            "epoch 19: loss = 0.5556299681380642\n"
          ]
        },
        {
          "output_type": "stream",
          "name": "stderr",
          "text": [
            "100%|██████████| 59/59 [00:06<00:00,  9.42it/s]\n"
          ]
        },
        {
          "output_type": "stream",
          "name": "stdout",
          "text": [
            "epoch 20: loss = 0.5456192973306623\n"
          ]
        },
        {
          "output_type": "stream",
          "name": "stderr",
          "text": [
            "100%|██████████| 59/59 [00:07<00:00,  8.05it/s]\n"
          ]
        },
        {
          "output_type": "stream",
          "name": "stdout",
          "text": [
            "epoch 21: loss = 0.5375448707806862\n"
          ]
        },
        {
          "output_type": "stream",
          "name": "stderr",
          "text": [
            "100%|██████████| 59/59 [00:06<00:00,  8.77it/s]\n"
          ]
        },
        {
          "output_type": "stream",
          "name": "stdout",
          "text": [
            "epoch 22: loss = 0.5280053135702166\n"
          ]
        },
        {
          "output_type": "stream",
          "name": "stderr",
          "text": [
            "100%|██████████| 59/59 [00:07<00:00,  7.99it/s]\n"
          ]
        },
        {
          "output_type": "stream",
          "name": "stdout",
          "text": [
            "epoch 23: loss = 0.5206291761438725\n"
          ]
        },
        {
          "output_type": "stream",
          "name": "stderr",
          "text": [
            "100%|██████████| 59/59 [00:08<00:00,  7.13it/s]\n"
          ]
        },
        {
          "output_type": "stream",
          "name": "stdout",
          "text": [
            "epoch 24: loss = 0.5141333043575286\n"
          ]
        },
        {
          "output_type": "stream",
          "name": "stderr",
          "text": [
            "100%|██████████| 59/59 [00:10<00:00,  5.46it/s]\n"
          ]
        },
        {
          "output_type": "stream",
          "name": "stdout",
          "text": [
            "epoch 25: loss = 0.5071858985949372\n"
          ]
        },
        {
          "output_type": "stream",
          "name": "stderr",
          "text": [
            "100%|██████████| 59/59 [00:11<00:00,  5.07it/s]\n"
          ]
        },
        {
          "output_type": "stream",
          "name": "stdout",
          "text": [
            "epoch 26: loss = 0.5009856067471584\n"
          ]
        },
        {
          "output_type": "stream",
          "name": "stderr",
          "text": [
            "100%|██████████| 59/59 [00:08<00:00,  6.84it/s]\n"
          ]
        },
        {
          "output_type": "stream",
          "name": "stdout",
          "text": [
            "epoch 27: loss = 0.4953023912542959\n"
          ]
        },
        {
          "output_type": "stream",
          "name": "stderr",
          "text": [
            "100%|██████████| 59/59 [00:07<00:00,  7.53it/s]\n"
          ]
        },
        {
          "output_type": "stream",
          "name": "stdout",
          "text": [
            "epoch 28: loss = 0.4903998627501019\n"
          ]
        },
        {
          "output_type": "stream",
          "name": "stderr",
          "text": [
            "100%|██████████| 59/59 [00:07<00:00,  8.32it/s]\n"
          ]
        },
        {
          "output_type": "stream",
          "name": "stdout",
          "text": [
            "epoch 29: loss = 0.48474173677169663\n"
          ]
        },
        {
          "output_type": "stream",
          "name": "stderr",
          "text": [
            "100%|██████████| 59/59 [00:08<00:00,  7.15it/s]\n"
          ]
        },
        {
          "output_type": "stream",
          "name": "stdout",
          "text": [
            "epoch 30: loss = 0.4799586286989309\n"
          ]
        },
        {
          "output_type": "stream",
          "name": "stderr",
          "text": [
            "100%|██████████| 59/59 [00:09<00:00,  5.92it/s]\n"
          ]
        },
        {
          "output_type": "stream",
          "name": "stdout",
          "text": [
            "epoch 31: loss = 0.4750177153086258\n"
          ]
        },
        {
          "output_type": "stream",
          "name": "stderr",
          "text": [
            "100%|██████████| 59/59 [00:08<00:00,  6.98it/s]\n"
          ]
        },
        {
          "output_type": "stream",
          "name": "stdout",
          "text": [
            "epoch 32: loss = 0.4693046909267619\n"
          ]
        },
        {
          "output_type": "stream",
          "name": "stderr",
          "text": [
            "100%|██████████| 59/59 [00:07<00:00,  7.71it/s]\n"
          ]
        },
        {
          "output_type": "stream",
          "name": "stdout",
          "text": [
            "epoch 33: loss = 0.465481366646492\n"
          ]
        },
        {
          "output_type": "stream",
          "name": "stderr",
          "text": [
            "100%|██████████| 59/59 [00:07<00:00,  7.43it/s]\n"
          ]
        },
        {
          "output_type": "stream",
          "name": "stdout",
          "text": [
            "epoch 34: loss = 0.46137577396328183\n"
          ]
        },
        {
          "output_type": "stream",
          "name": "stderr",
          "text": [
            "100%|██████████| 59/59 [00:08<00:00,  7.15it/s]\n"
          ]
        },
        {
          "output_type": "stream",
          "name": "stdout",
          "text": [
            "epoch 35: loss = 0.4575110997183848\n"
          ]
        },
        {
          "output_type": "stream",
          "name": "stderr",
          "text": [
            "100%|██████████| 59/59 [00:07<00:00,  7.79it/s]\n"
          ]
        },
        {
          "output_type": "stream",
          "name": "stdout",
          "text": [
            "epoch 36: loss = 0.4538111974627284\n"
          ]
        },
        {
          "output_type": "stream",
          "name": "stderr",
          "text": [
            "100%|██████████| 59/59 [00:09<00:00,  6.55it/s]\n"
          ]
        },
        {
          "output_type": "stream",
          "name": "stdout",
          "text": [
            "epoch 37: loss = 0.4502555147065955\n"
          ]
        },
        {
          "output_type": "stream",
          "name": "stderr",
          "text": [
            "100%|██████████| 59/59 [00:08<00:00,  6.77it/s]\n"
          ]
        },
        {
          "output_type": "stream",
          "name": "stdout",
          "text": [
            "epoch 38: loss = 0.44781948348223155\n"
          ]
        },
        {
          "output_type": "stream",
          "name": "stderr",
          "text": [
            "100%|██████████| 59/59 [00:06<00:00,  9.09it/s]\n"
          ]
        },
        {
          "output_type": "stream",
          "name": "stdout",
          "text": [
            "epoch 39: loss = 0.44379192035076975\n"
          ]
        },
        {
          "output_type": "stream",
          "name": "stderr",
          "text": [
            "100%|██████████| 59/59 [00:08<00:00,  6.72it/s]\n"
          ]
        },
        {
          "output_type": "stream",
          "name": "stdout",
          "text": [
            "epoch 40: loss = 0.44140335967985256\n"
          ]
        },
        {
          "output_type": "stream",
          "name": "stderr",
          "text": [
            "100%|██████████| 59/59 [00:08<00:00,  6.58it/s]\n"
          ]
        },
        {
          "output_type": "stream",
          "name": "stdout",
          "text": [
            "epoch 41: loss = 0.43722896959822055\n"
          ]
        },
        {
          "output_type": "stream",
          "name": "stderr",
          "text": [
            "100%|██████████| 59/59 [00:07<00:00,  7.79it/s]\n"
          ]
        },
        {
          "output_type": "stream",
          "name": "stdout",
          "text": [
            "epoch 42: loss = 0.43427862605806117\n"
          ]
        },
        {
          "output_type": "stream",
          "name": "stderr",
          "text": [
            "100%|██████████| 59/59 [00:07<00:00,  7.74it/s]\n"
          ]
        },
        {
          "output_type": "stream",
          "name": "stdout",
          "text": [
            "epoch 43: loss = 0.4312577732538774\n"
          ]
        },
        {
          "output_type": "stream",
          "name": "stderr",
          "text": [
            "100%|██████████| 59/59 [00:07<00:00,  8.29it/s]\n"
          ]
        },
        {
          "output_type": "stream",
          "name": "stdout",
          "text": [
            "epoch 44: loss = 0.43008724966291645\n"
          ]
        },
        {
          "output_type": "stream",
          "name": "stderr",
          "text": [
            "100%|██████████| 59/59 [00:08<00:00,  6.82it/s]\n"
          ]
        },
        {
          "output_type": "stream",
          "name": "stdout",
          "text": [
            "epoch 45: loss = 0.42623628751706266\n"
          ]
        },
        {
          "output_type": "stream",
          "name": "stderr",
          "text": [
            "100%|██████████| 59/59 [00:07<00:00,  8.33it/s]\n"
          ]
        },
        {
          "output_type": "stream",
          "name": "stdout",
          "text": [
            "epoch 46: loss = 0.42351938708353837\n"
          ]
        },
        {
          "output_type": "stream",
          "name": "stderr",
          "text": [
            "100%|██████████| 59/59 [00:08<00:00,  6.72it/s]\n"
          ]
        },
        {
          "output_type": "stream",
          "name": "stdout",
          "text": [
            "epoch 47: loss = 0.4209214656029719\n"
          ]
        },
        {
          "output_type": "stream",
          "name": "stderr",
          "text": [
            "100%|██████████| 59/59 [00:09<00:00,  6.35it/s]\n"
          ]
        },
        {
          "output_type": "stream",
          "name": "stdout",
          "text": [
            "epoch 48: loss = 0.419063282214989\n"
          ]
        },
        {
          "output_type": "stream",
          "name": "stderr",
          "text": [
            "100%|██████████| 59/59 [00:07<00:00,  7.74it/s]\n"
          ]
        },
        {
          "output_type": "stream",
          "name": "stdout",
          "text": [
            "epoch 49: loss = 0.41733555369457953\n"
          ]
        },
        {
          "output_type": "stream",
          "name": "stderr",
          "text": [
            "100%|██████████| 59/59 [00:08<00:00,  6.68it/s]\n"
          ]
        },
        {
          "output_type": "stream",
          "name": "stdout",
          "text": [
            "epoch 50: loss = 0.4140650443101333\n"
          ]
        },
        {
          "output_type": "stream",
          "name": "stderr",
          "text": [
            "100%|██████████| 59/59 [00:09<00:00,  6.46it/s]\n"
          ]
        },
        {
          "output_type": "stream",
          "name": "stdout",
          "text": [
            "epoch 51: loss = 0.4120960811437187\n"
          ]
        },
        {
          "output_type": "stream",
          "name": "stderr",
          "text": [
            "100%|██████████| 59/59 [00:07<00:00,  7.98it/s]\n"
          ]
        },
        {
          "output_type": "stream",
          "name": "stdout",
          "text": [
            "epoch 52: loss = 0.4102864002777359\n"
          ]
        },
        {
          "output_type": "stream",
          "name": "stderr",
          "text": [
            "100%|██████████| 59/59 [00:08<00:00,  6.57it/s]\n"
          ]
        },
        {
          "output_type": "stream",
          "name": "stdout",
          "text": [
            "epoch 53: loss = 0.40778759980605817\n"
          ]
        },
        {
          "output_type": "stream",
          "name": "stderr",
          "text": [
            "100%|██████████| 59/59 [00:07<00:00,  7.88it/s]\n"
          ]
        },
        {
          "output_type": "stream",
          "name": "stdout",
          "text": [
            "epoch 54: loss = 0.4058827641656844\n"
          ]
        },
        {
          "output_type": "stream",
          "name": "stderr",
          "text": [
            "100%|██████████| 59/59 [00:09<00:00,  6.55it/s]\n"
          ]
        },
        {
          "output_type": "stream",
          "name": "stdout",
          "text": [
            "epoch 55: loss = 0.4046553444054166\n"
          ]
        },
        {
          "output_type": "stream",
          "name": "stderr",
          "text": [
            "100%|██████████| 59/59 [00:08<00:00,  6.67it/s]\n"
          ]
        },
        {
          "output_type": "stream",
          "name": "stdout",
          "text": [
            "epoch 56: loss = 0.40223513669886846\n"
          ]
        },
        {
          "output_type": "stream",
          "name": "stderr",
          "text": [
            "100%|██████████| 59/59 [00:08<00:00,  6.67it/s]\n"
          ]
        },
        {
          "output_type": "stream",
          "name": "stdout",
          "text": [
            "epoch 57: loss = 0.4009721349861662\n"
          ]
        },
        {
          "output_type": "stream",
          "name": "stderr",
          "text": [
            "100%|██████████| 59/59 [00:08<00:00,  7.17it/s]\n"
          ]
        },
        {
          "output_type": "stream",
          "name": "stdout",
          "text": [
            "epoch 58: loss = 0.39861322257478354\n"
          ]
        },
        {
          "output_type": "stream",
          "name": "stderr",
          "text": [
            "100%|██████████| 59/59 [00:06<00:00,  9.47it/s]\n"
          ]
        },
        {
          "output_type": "stream",
          "name": "stdout",
          "text": [
            "epoch 59: loss = 0.39786739470595006\n"
          ]
        },
        {
          "output_type": "stream",
          "name": "stderr",
          "text": [
            "100%|██████████| 59/59 [00:07<00:00,  7.99it/s]\n"
          ]
        },
        {
          "output_type": "stream",
          "name": "stdout",
          "text": [
            "epoch 60: loss = 0.39550309969206987\n"
          ]
        },
        {
          "output_type": "stream",
          "name": "stderr",
          "text": [
            "100%|██████████| 59/59 [00:06<00:00,  9.39it/s]\n"
          ]
        },
        {
          "output_type": "stream",
          "name": "stdout",
          "text": [
            "epoch 61: loss = 0.393477736893347\n"
          ]
        },
        {
          "output_type": "stream",
          "name": "stderr",
          "text": [
            "100%|██████████| 59/59 [00:07<00:00,  8.22it/s]\n"
          ]
        },
        {
          "output_type": "stream",
          "name": "stdout",
          "text": [
            "epoch 62: loss = 0.39216697216033924\n"
          ]
        },
        {
          "output_type": "stream",
          "name": "stderr",
          "text": [
            "100%|██████████| 59/59 [00:06<00:00,  9.01it/s]\n"
          ]
        },
        {
          "output_type": "stream",
          "name": "stdout",
          "text": [
            "epoch 63: loss = 0.3907690204806247\n"
          ]
        },
        {
          "output_type": "stream",
          "name": "stderr",
          "text": [
            "100%|██████████| 59/59 [00:06<00:00,  8.56it/s]\n"
          ]
        },
        {
          "output_type": "stream",
          "name": "stdout",
          "text": [
            "epoch 64: loss = 0.3890613009363917\n"
          ]
        },
        {
          "output_type": "stream",
          "name": "stderr",
          "text": [
            "100%|██████████| 59/59 [00:07<00:00,  7.73it/s]\n"
          ]
        },
        {
          "output_type": "stream",
          "name": "stdout",
          "text": [
            "epoch 65: loss = 0.38743507255942117\n"
          ]
        },
        {
          "output_type": "stream",
          "name": "stderr",
          "text": [
            "100%|██████████| 59/59 [00:07<00:00,  8.10it/s]\n"
          ]
        },
        {
          "output_type": "stream",
          "name": "stdout",
          "text": [
            "epoch 66: loss = 0.3861359832650525\n"
          ]
        },
        {
          "output_type": "stream",
          "name": "stderr",
          "text": [
            "100%|██████████| 59/59 [00:09<00:00,  6.03it/s]\n"
          ]
        },
        {
          "output_type": "stream",
          "name": "stdout",
          "text": [
            "epoch 67: loss = 0.3847824567455357\n"
          ]
        },
        {
          "output_type": "stream",
          "name": "stderr",
          "text": [
            "100%|██████████| 59/59 [00:06<00:00,  8.81it/s]\n"
          ]
        },
        {
          "output_type": "stream",
          "name": "stdout",
          "text": [
            "epoch 68: loss = 0.38381241792339377\n"
          ]
        },
        {
          "output_type": "stream",
          "name": "stderr",
          "text": [
            "100%|██████████| 59/59 [00:08<00:00,  6.72it/s]\n"
          ]
        },
        {
          "output_type": "stream",
          "name": "stdout",
          "text": [
            "epoch 69: loss = 0.38195349604396495\n"
          ]
        },
        {
          "output_type": "stream",
          "name": "stderr",
          "text": [
            "100%|██████████| 59/59 [00:07<00:00,  7.91it/s]\n"
          ]
        },
        {
          "output_type": "stream",
          "name": "stdout",
          "text": [
            "epoch 70: loss = 0.380756554967266\n"
          ]
        },
        {
          "output_type": "stream",
          "name": "stderr",
          "text": [
            "100%|██████████| 59/59 [00:08<00:00,  7.27it/s]\n"
          ]
        },
        {
          "output_type": "stream",
          "name": "stdout",
          "text": [
            "epoch 71: loss = 0.37963384895001434\n"
          ]
        },
        {
          "output_type": "stream",
          "name": "stderr",
          "text": [
            "100%|██████████| 59/59 [00:06<00:00,  9.46it/s]\n"
          ]
        },
        {
          "output_type": "stream",
          "name": "stdout",
          "text": [
            "epoch 72: loss = 0.37772972401926086\n"
          ]
        },
        {
          "output_type": "stream",
          "name": "stderr",
          "text": [
            "100%|██████████| 59/59 [00:07<00:00,  8.21it/s]\n"
          ]
        },
        {
          "output_type": "stream",
          "name": "stdout",
          "text": [
            "epoch 73: loss = 0.3770415166677055\n"
          ]
        },
        {
          "output_type": "stream",
          "name": "stderr",
          "text": [
            "100%|██████████| 59/59 [00:06<00:00,  9.65it/s]\n"
          ]
        },
        {
          "output_type": "stream",
          "name": "stdout",
          "text": [
            "epoch 74: loss = 0.37588274731474397\n"
          ]
        },
        {
          "output_type": "stream",
          "name": "stderr",
          "text": [
            "100%|██████████| 59/59 [00:07<00:00,  7.96it/s]\n"
          ]
        },
        {
          "output_type": "stream",
          "name": "stdout",
          "text": [
            "epoch 75: loss = 0.3740102769964831\n"
          ]
        },
        {
          "output_type": "stream",
          "name": "stderr",
          "text": [
            "100%|██████████| 59/59 [00:06<00:00,  9.57it/s]\n"
          ]
        },
        {
          "output_type": "stream",
          "name": "stdout",
          "text": [
            "epoch 76: loss = 0.37384556360163934\n"
          ]
        },
        {
          "output_type": "stream",
          "name": "stderr",
          "text": [
            "100%|██████████| 59/59 [00:07<00:00,  8.21it/s]\n"
          ]
        },
        {
          "output_type": "stream",
          "name": "stdout",
          "text": [
            "epoch 77: loss = 0.37241362111043114\n"
          ]
        },
        {
          "output_type": "stream",
          "name": "stderr",
          "text": [
            "100%|██████████| 59/59 [00:06<00:00,  9.36it/s]\n"
          ]
        },
        {
          "output_type": "stream",
          "name": "stdout",
          "text": [
            "epoch 78: loss = 0.37175049317085146\n"
          ]
        },
        {
          "output_type": "stream",
          "name": "stderr",
          "text": [
            "100%|██████████| 59/59 [00:07<00:00,  7.98it/s]\n"
          ]
        },
        {
          "output_type": "stream",
          "name": "stdout",
          "text": [
            "epoch 79: loss = 0.3700496751373097\n"
          ]
        },
        {
          "output_type": "stream",
          "name": "stderr",
          "text": [
            "100%|██████████| 59/59 [00:06<00:00,  9.37it/s]\n"
          ]
        },
        {
          "output_type": "stream",
          "name": "stdout",
          "text": [
            "epoch 80: loss = 0.368935231940221\n"
          ]
        },
        {
          "output_type": "stream",
          "name": "stderr",
          "text": [
            "100%|██████████| 59/59 [00:07<00:00,  8.43it/s]\n"
          ]
        },
        {
          "output_type": "stream",
          "name": "stdout",
          "text": [
            "epoch 81: loss = 0.36794444817607685\n"
          ]
        },
        {
          "output_type": "stream",
          "name": "stderr",
          "text": [
            "100%|██████████| 59/59 [00:06<00:00,  9.25it/s]\n"
          ]
        },
        {
          "output_type": "stream",
          "name": "stdout",
          "text": [
            "epoch 82: loss = 0.367724998522613\n"
          ]
        },
        {
          "output_type": "stream",
          "name": "stderr",
          "text": [
            "100%|██████████| 59/59 [00:07<00:00,  8.20it/s]\n"
          ]
        },
        {
          "output_type": "stream",
          "name": "stdout",
          "text": [
            "epoch 83: loss = 0.36647129210375123\n"
          ]
        },
        {
          "output_type": "stream",
          "name": "stderr",
          "text": [
            "100%|██████████| 59/59 [00:06<00:00,  9.30it/s]\n"
          ]
        },
        {
          "output_type": "stream",
          "name": "stdout",
          "text": [
            "epoch 84: loss = 0.36493553953655694\n"
          ]
        },
        {
          "output_type": "stream",
          "name": "stderr",
          "text": [
            "100%|██████████| 59/59 [00:07<00:00,  8.14it/s]\n"
          ]
        },
        {
          "output_type": "stream",
          "name": "stdout",
          "text": [
            "epoch 85: loss = 0.3638018374725924\n"
          ]
        },
        {
          "output_type": "stream",
          "name": "stderr",
          "text": [
            "100%|██████████| 59/59 [00:06<00:00,  9.27it/s]\n"
          ]
        },
        {
          "output_type": "stream",
          "name": "stdout",
          "text": [
            "epoch 86: loss = 0.36270877971487536\n"
          ]
        },
        {
          "output_type": "stream",
          "name": "stderr",
          "text": [
            "100%|██████████| 59/59 [00:07<00:00,  8.33it/s]\n"
          ]
        },
        {
          "output_type": "stream",
          "name": "stdout",
          "text": [
            "epoch 87: loss = 0.3625281645079791\n"
          ]
        },
        {
          "output_type": "stream",
          "name": "stderr",
          "text": [
            "100%|██████████| 59/59 [00:06<00:00,  9.32it/s]\n"
          ]
        },
        {
          "output_type": "stream",
          "name": "stdout",
          "text": [
            "epoch 88: loss = 0.36149643588874303\n"
          ]
        },
        {
          "output_type": "stream",
          "name": "stderr",
          "text": [
            "100%|██████████| 59/59 [00:07<00:00,  8.23it/s]\n"
          ]
        },
        {
          "output_type": "stream",
          "name": "stdout",
          "text": [
            "epoch 89: loss = 0.359965439065028\n"
          ]
        },
        {
          "output_type": "stream",
          "name": "stderr",
          "text": [
            "100%|██████████| 59/59 [00:06<00:00,  9.40it/s]\n"
          ]
        },
        {
          "output_type": "stream",
          "name": "stdout",
          "text": [
            "epoch 90: loss = 0.3588505523689721\n"
          ]
        },
        {
          "output_type": "stream",
          "name": "stderr",
          "text": [
            "100%|██████████| 59/59 [00:07<00:00,  8.31it/s]\n"
          ]
        },
        {
          "output_type": "stream",
          "name": "stdout",
          "text": [
            "epoch 91: loss = 0.3580066849619656\n"
          ]
        },
        {
          "output_type": "stream",
          "name": "stderr",
          "text": [
            "100%|██████████| 59/59 [00:06<00:00,  9.42it/s]\n"
          ]
        },
        {
          "output_type": "stream",
          "name": "stdout",
          "text": [
            "epoch 92: loss = 0.3577702429334998\n"
          ]
        },
        {
          "output_type": "stream",
          "name": "stderr",
          "text": [
            "100%|██████████| 59/59 [00:07<00:00,  8.31it/s]\n"
          ]
        },
        {
          "output_type": "stream",
          "name": "stdout",
          "text": [
            "epoch 93: loss = 0.3564003635261019\n"
          ]
        },
        {
          "output_type": "stream",
          "name": "stderr",
          "text": [
            "100%|██████████| 59/59 [00:06<00:00,  9.52it/s]\n"
          ]
        },
        {
          "output_type": "stream",
          "name": "stdout",
          "text": [
            "epoch 94: loss = 0.355677250078169\n"
          ]
        },
        {
          "output_type": "stream",
          "name": "stderr",
          "text": [
            "100%|██████████| 59/59 [00:07<00:00,  8.08it/s]\n"
          ]
        },
        {
          "output_type": "stream",
          "name": "stdout",
          "text": [
            "epoch 95: loss = 0.3549898196074921\n"
          ]
        },
        {
          "output_type": "stream",
          "name": "stderr",
          "text": [
            "100%|██████████| 59/59 [00:06<00:00,  9.35it/s]\n"
          ]
        },
        {
          "output_type": "stream",
          "name": "stdout",
          "text": [
            "epoch 96: loss = 0.3543677213838544\n"
          ]
        },
        {
          "output_type": "stream",
          "name": "stderr",
          "text": [
            "100%|██████████| 59/59 [00:07<00:00,  8.23it/s]\n"
          ]
        },
        {
          "output_type": "stream",
          "name": "stdout",
          "text": [
            "epoch 97: loss = 0.3534873456267987\n"
          ]
        },
        {
          "output_type": "stream",
          "name": "stderr",
          "text": [
            "100%|██████████| 59/59 [00:06<00:00,  9.27it/s]\n"
          ]
        },
        {
          "output_type": "stream",
          "name": "stdout",
          "text": [
            "epoch 98: loss = 0.35268126150309037\n"
          ]
        },
        {
          "output_type": "stream",
          "name": "stderr",
          "text": [
            "100%|██████████| 59/59 [00:07<00:00,  8.42it/s]"
          ]
        },
        {
          "output_type": "stream",
          "name": "stdout",
          "text": [
            "epoch 99: loss = 0.35201816387095697\n"
          ]
        },
        {
          "output_type": "stream",
          "name": "stderr",
          "text": [
            "\n"
          ]
        }
      ]
    },
    {
      "cell_type": "code",
      "source": [
        "torch.save(classifier.state_dict(), './classifier.pth')"
      ],
      "metadata": {
        "id": "SgXRjbJSqr28"
      },
      "execution_count": 35,
      "outputs": []
    },
    {
      "cell_type": "code",
      "source": [
        "# test classifier\n",
        "input_dim = 784\n",
        "num_classes = 10\n",
        "hidden_dims = [512,512,512,512]\n",
        "device = torch.device('cuda' if torch.cuda.is_available() else 'cpu')\n",
        "classifier = LinearClassifier(input_dim,num_classes,hidden_dims,device).to(device)\n",
        "classifier.load_state_dict(torch.load('./classifier.pth'))\n",
        "\n",
        "\n",
        "losses = []\n",
        "\n",
        "acc_test = 0.0\n",
        "for image,target in tqdm(testLoader):\n",
        "  image = image.to(device)\n",
        "  target = target.to(device)\n",
        "  logits = classifier(image)\n",
        "  idxs = logits.argmax(dim=1)\n",
        "  acc_test += (idxs == target).sum().item()/len(target)\n",
        "\n",
        "acc_test /= len(testLoader)\n",
        "\n",
        "acc_train = 0.0\n",
        "for image,target in tqdm(trainLoader):\n",
        "  image = image.to(device)\n",
        "  target = target.to(device)\n",
        "  logits = classifier(image)\n",
        "  idxs = logits.argmax(dim=1)\n",
        "  acc_train += (idxs == target).sum().item()/len(target)\n",
        "\n",
        "acc_train /= len(trainLoader)\n",
        "\n",
        "print(f'Train accuracy: {acc_train*100}%')\n",
        "print(f'Test accuracy: {acc_test*100}%')"
      ],
      "metadata": {
        "colab": {
          "base_uri": "https://localhost:8080/"
        },
        "id": "bBChiEWSq4Ym",
        "outputId": "050cab9b-c225-46bd-dbc5-c33da3e6c6fb"
      },
      "execution_count": 39,
      "outputs": [
        {
          "output_type": "stream",
          "name": "stderr",
          "text": [
            "100%|██████████| 10/10 [00:00<00:00, 10.09it/s]\n",
            "100%|██████████| 59/59 [00:06<00:00,  9.16it/s]"
          ]
        },
        {
          "output_type": "stream",
          "name": "stdout",
          "text": [
            "Train accuracy: 89.65261903434434%\n",
            "Test accuracy: 89.83458227040816%\n"
          ]
        },
        {
          "output_type": "stream",
          "name": "stderr",
          "text": [
            "\n"
          ]
        }
      ]
    }
  ]
}